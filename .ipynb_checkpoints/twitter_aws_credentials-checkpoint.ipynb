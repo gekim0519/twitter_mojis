{
 "cells": [
  {
   "cell_type": "code",
   "execution_count": 1,
   "metadata": {},
   "outputs": [],
   "source": [
    "# Variables that contains the user credentials to access Twitter API \n",
    "consumer_key = \"dkPY4LbxqaLSmbeGR3pdVG1by\"\n",
    "consumer_secret = \"YMSNEFT4HhZb8wjkiU1BhddnLomG2QUoPgkQCji6sTIvWWdRvb\"\n",
    "access_token = \"942800078011551744-MlvmDWmVwCLbJdOXxcDHcEMXCITMpDz\"\n",
    "access_token_secret = \"m0WWxOF1WjqAWqYtSIJ5ZIY4Acy5IYBmFvKj82EyOim7d\""
   ]
  }
 ],
 "metadata": {
  "kernelspec": {
   "display_name": "Python 3",
   "language": "python",
   "name": "python3"
  },
  "language_info": {
   "codemirror_mode": {
    "name": "ipython",
    "version": 3
   },
   "file_extension": ".py",
   "mimetype": "text/x-python",
   "name": "python",
   "nbconvert_exporter": "python",
   "pygments_lexer": "ipython3",
   "version": "3.6.8"
  }
 },
 "nbformat": 4,
 "nbformat_minor": 2
}
