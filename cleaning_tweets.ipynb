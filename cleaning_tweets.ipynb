{
 "cells": [
  {
   "cell_type": "markdown",
   "metadata": {},
   "source": [
    "# Cleaning"
   ]
  },
  {
   "cell_type": "markdown",
   "metadata": {},
   "source": [
    "Let's make a columns for emojis and its corresponding tweets"
   ]
  },
  {
   "cell_type": "code",
   "execution_count": 93,
   "metadata": {},
   "outputs": [
    {
     "name": "stderr",
     "output_type": "stream",
     "text": [
      "[nltk_data] Downloading package stopwords to /Users/sara/nltk_data...\n",
      "[nltk_data]   Package stopwords is already up-to-date!\n"
     ]
    }
   ],
   "source": [
    "import numpy as np\n",
    "import pandas as pd\n",
    "import pickle\n",
    "from collections import defaultdict\n",
    "from collections import Counter\n",
    "import re\n",
    "import nltk\n",
    "import nltk.tokenize as tk\n",
    "import en_core_web_sm\n",
    "import string\n",
    "nltk.download('stopwords')\n",
    "\n",
    "# complete list of emojis\n",
    "from emoji import UNICODE_EMOJI\n",
    "\n",
    "from nltk.corpus import stopwords\n",
    "\n",
    "nlp = en_core_web_sm.load()\n",
    "\n",
    "stopwords = stopwords.words('english')\n",
    "\n",
    "stopwords.extend(['\\'s','’s','rt','…','️','...','follow', 'dm', 'https', 'ur', 'll' ,'amp', 'subscribe', 'don', 've', 'retweet', 'im', 'http'])\n",
    "\n",
    "punctuations = string.punctuation\n",
    "\n",
    "letters = '🇦 🇧 🇨 🇩 🇪 🇫 🇬 🇭 🇮 🇯 🇰 🇱 🇲 🇳 🇴 🇵 🇶 🇷 🇸 🇹 🇺 🇻 🇼 🇽 🇾 🇿'.split()\n",
    "\n",
    "import seaborn as sns\n",
    "import matplotlib.pyplot as plt\n",
    "from collections import Counter\n",
    "\n",
    "class clean_tweets(object):\n",
    "    def __init__(self): \n",
    "        #self.tweets = list(pickle.load(open('./data/yay_moji.pkl','rb')))\n",
    "        self.mojis = pd.read_pickle('./data/df_emoji.pkl')\n",
    "        self.flags = self.mojis['unichar'][1458:]\n",
    "        self.emojis = list(UNICODE_EMOJI.keys())\n",
    "        \n",
    "    def cleanup_text(self, tweets, logging=False):\n",
    "\n",
    "        '''\n",
    "        Define function to cleanup text by removing personal pronouns, stopwords, and puncuation\n",
    "        '''\n",
    "        texts = []\n",
    "        counter = 1\n",
    "        for tweet in tweets:\n",
    "            if counter % 1000 == 0 and logging:\n",
    "                print(\"Processed %d out of %d documents.\" % (counter, len(tweets)))\n",
    "            counter += 1\n",
    "            doc = nlp(tweet, disable=['parser', 'ner'])\n",
    "            tokens = [tok.lemma_.lower().strip() for tok in doc if tok.lemma_ != '-PRON-']\n",
    "            tokens = [tok for tok in tokens if tok not in stopwords and tok not in punctuations]\n",
    "            tokens = ' '.join(tokens)\n",
    "            tokens = re.sub('@[^\\s]+','', tokens)\n",
    "            texts.append(tokens)\n",
    "        return(pd.Series(texts))\n",
    "    \n",
    "\n",
    "    def fix_flags(self, tweets):\n",
    "        '''\n",
    "        change letter emojis to flags\n",
    "        '''\n",
    "        tweets = self.cleanup_text(tweets)\n",
    "        \n",
    "        fixed = []\n",
    "        for tweet in tweets:\n",
    "            for l in letters:\n",
    "                if l in tweet:\n",
    "                    tweet = re.sub(l+\" \", l, tweet)\n",
    "            fixed.append(tweet)\n",
    "        return(fixed)\n",
    "    \n",
    "    \n",
    "    def flags_space(self, tweets):\n",
    "        '''\n",
    "        put space after flag emojis\n",
    "        '''\n",
    "        tweets = self.fix_flags(tweets)\n",
    "        \n",
    "        fixed = []\n",
    "        for tweet in tweets:\n",
    "            for l in self.flags:\n",
    "                if l in tweet:\n",
    "                    tweet = re.sub(l, l+\" \", tweet)\n",
    "            fixed.append(tweet)\n",
    "        return(fixed)\n",
    "    \n",
    "    def extract_remove_mojis(self, tweets):\n",
    "        \n",
    "        tweets = self.flags_space(tweets)\n",
    "        \n",
    "        # extracting emojis\n",
    "    \n",
    "        emoji = defaultdict(list)\n",
    "\n",
    "        for i, tweet in enumerate(tweets):\n",
    "            for word in tweet.split():\n",
    "                if word in self.emojis:\n",
    "                    emoji['emoji'].append(word)\n",
    "                    emoji['index'].append(i)\n",
    "\n",
    "        # delete overlapping emojis in a tweet\n",
    "        emoji = pd.DataFrame(emoji).drop_duplicates()\n",
    "\n",
    "        # remove emojis\n",
    "        \n",
    "        no_emojis = []\n",
    "\n",
    "        for tweet in tweets:\n",
    "            tweet = tweet.split()\n",
    "            words = []\n",
    "\n",
    "            for word in tweet:\n",
    "                if word not in list(extracted['emoji']):\n",
    "                    words.append(word)\n",
    "            words = ' '.join(words)\n",
    "            no_emojis.append(words)\n",
    "            \n",
    "        return(emoji, no_emojis)\n",
    "    \n",
    "    def tweets_df(self, tweets):\n",
    "    \n",
    "        extracted, tw_no_emo = self.extract_remove_mojis(tweets)\n",
    "\n",
    "        tweets_df = pd.DataFrame(tw_no_emo, columns = ['tweets'])\n",
    "\n",
    "        tweets_merged = pd.merge(extracted, tweets_df.reset_index(), on='index', how='left')\n",
    "        \n",
    "        return(tweets_merged)\n",
    "    \n",
    "    def top_emojis(self, tweets_df):\n",
    "        # show top 25 most frequently occuring emojis\n",
    "        tw = [word for word in tweets_df['emoji']]\n",
    "        tw_counts = Counter(tw)\n",
    "        tw_common_words = [word[0] for word in tw_counts.most_common(25)]\n",
    "        tw_common_counts = [word[1] for word in tw_counts.most_common(25)]\n",
    "        print(pd.DataFrame([tw_common_words,tw_common_counts]))\n",
    "    \n",
    "    def top_words(self, tweets_df):\n",
    "        # Plot top 25 most frequently occuring words\n",
    "        tw = [word for word in tweets_df['tweets']]\n",
    "        tw = ' '.join(tw).split()\n",
    "        tw_counts = Counter(tw)\n",
    "        tw_common_words = [word[0] for word in tw_counts.most_common(25)]\n",
    "        tw_common_counts = [word[1] for word in tw_counts.most_common(25)]\n",
    "        plt.figure(figsize=(15, 12))\n",
    "        sns.barplot(x=tw_common_words, y=tw_common_counts)\n",
    "        plt.show()"
   ]
  },
  {
   "cell_type": "code",
   "execution_count": 94,
   "metadata": {},
   "outputs": [],
   "source": [
    "cleaning = clean_tweets()"
   ]
  },
  {
   "cell_type": "code",
   "execution_count": 95,
   "metadata": {},
   "outputs": [],
   "source": [
    "tweets = list(pickle.load(open('./data/yay_moji.pkl','rb')))\n",
    "tweets_df = cleaning.tweets_df(tweets)"
   ]
  },
  {
   "cell_type": "code",
   "execution_count": 84,
   "metadata": {},
   "outputs": [
    {
     "name": "stdout",
     "output_type": "stream",
     "text": [
      "    0    1    2    3    4    5    6    7    8    9   ...   15   16  17  18  \\\n",
      "0    😂   🇺🇸    🤯    ❤    😭    😍    ✨    🔥    🙊    🤣  ...    💕    🤔   🙌   🤷   \n",
      "1  851  452  413  385  378  340  321  272  214  182  ...  106  103  99  97   \n",
      "\n",
      "   19  20  21  22  23  24  \n",
      "0   😊   👏   👍   🚨   👀   💙  \n",
      "1  97  96  95  93  91  88  \n",
      "\n",
      "[2 rows x 25 columns]\n"
     ]
    }
   ],
   "source": [
    "cleaning.top_emojis(tweets_df)"
   ]
  },
  {
   "cell_type": "code",
   "execution_count": 85,
   "metadata": {},
   "outputs": [
    {
     "data": {
      "image/png": "[encoded data removed]",
      "text/plain": [
       "<Figure size 1080x864 with 1 Axes>"
      ]
     },
     "metadata": {
      "needs_background": "light"
     },
     "output_type": "display_data"
    }
   ],
   "source": [
    "cleaning.top_words(tweets_df)"
   ]
  },
  {
   "cell_type": "code",
   "execution_count": 50,
   "metadata": {},
   "outputs": [],
   "source": [
    "# emojis with at least 10 tweets\n",
    "enough_emoji = tweets_merged.groupby('emoji').count()[tweets_merged.groupby('emoji').count()['tweets']>=10]\n",
    "enough_emoji = pd.merge(enough_emoji.reset_index()[['emoji']], tweets_merged, on='emoji', how='left')"
   ]
  }
 ],
 "metadata": {
  "kernelspec": {
   "display_name": "Python 3",
   "language": "python",
   "name": "python3"
  },
  "language_info": {
   "codemirror_mode": {
    "name": "ipython",
    "version": 3
   },
   "file_extension": ".py",
   "mimetype": "text/x-python",
   "name": "python",
   "nbconvert_exporter": "python",
   "pygments_lexer": "ipython3",
   "version": "3.6.8"
  }
 },
 "nbformat": 4,
 "nbformat_minor": 2
}
