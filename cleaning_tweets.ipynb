{
 "cells": [
  {
   "cell_type": "markdown",
   "metadata": {},
   "source": [
    "# Emojis Speak More than Words"
   ]
  },
  {
   "cell_type": "markdown",
   "metadata": {},
   "source": [
    "GOAL: \n",
    "    1. give an \"issue word\" as an input (ex. ocasio, climate change) and find the most related emoji\n",
    "    to kinda grasp people's opinions\n",
    "    2. give any word or a saying and get a emoji that is most related ex. sparkle --> ✨"
   ]
  },
  {
   "cell_type": "markdown",
   "metadata": {},
   "source": [
    "Let's make a columns for emojis and its corresponding tweets"
   ]
  },
  {
   "cell_type": "markdown",
   "metadata": {},
   "source": [
    "# Cleaning"
   ]
  },
  {
   "cell_type": "code",
   "execution_count": 71,
   "metadata": {},
   "outputs": [],
   "source": [
    "import numpy as np\n",
    "import pandas as pd\n",
    "import pickle\n",
    "from collections import defaultdict"
   ]
  },
  {
   "cell_type": "code",
   "execution_count": 72,
   "metadata": {},
   "outputs": [
    {
     "name": "stderr",
     "output_type": "stream",
     "text": [
      "[nltk_data] Downloading package stopwords to /Users/sara/nltk_data...\n",
      "[nltk_data]   Package stopwords is already up-to-date!\n"
     ]
    },
    {
     "data": {
      "text/plain": [
       "True"
      ]
     },
     "execution_count": 72,
     "metadata": {},
     "output_type": "execute_result"
    }
   ],
   "source": [
    "import re\n",
    "import nltk\n",
    "import nltk.tokenize as tk\n",
    "import en_core_web_sm\n",
    "import string\n",
    "nltk.download('stopwords')"
   ]
  },
  {
   "cell_type": "code",
   "execution_count": 73,
   "metadata": {},
   "outputs": [],
   "source": [
    "from nltk.corpus import stopwords\n",
    "\n",
    "nlp = en_core_web_sm.load()\n",
    "\n",
    "stopwords = stopwords.words('english')"
   ]
  },
  {
   "cell_type": "code",
   "execution_count": 74,
   "metadata": {},
   "outputs": [],
   "source": [
    "tweets = list(pickle.load(open('./data/yay_moji.pkl','rb')))\n",
    "mojis = pd.read_pickle('./data/df_emoji.pkl')"
   ]
  },
  {
   "cell_type": "code",
   "execution_count": 75,
   "metadata": {},
   "outputs": [
    {
     "data": {
      "text/plain": [
       "'Amazing concert yesterday in Paris with @BTS_twt 💜💜🔥🔥 #BTSinParis \\n\\nRain can’t stop the fire from ARMYs! https://t.co/46b7CSg2WZ'"
      ]
     },
     "execution_count": 75,
     "metadata": {},
     "output_type": "execute_result"
    }
   ],
   "source": [
    "tweets[1]"
   ]
  },
  {
   "cell_type": "code",
   "execution_count": 76,
   "metadata": {},
   "outputs": [],
   "source": [
    "stopwords.extend(['\\'s','’s','rt','…','️','...','follow', 'dm', 'https', 'ur', 'll' ,'amp', 'subscribe', 'don', 've', 'retweet', 'im', 'http'])"
   ]
  },
  {
   "cell_type": "code",
   "execution_count": 77,
   "metadata": {},
   "outputs": [],
   "source": [
    "# Clean text \n",
    "punctuations = string.punctuation\n",
    "\n",
    "# Define function to cleanup text by removing personal pronouns, stopwords, and puncuation\n",
    "def cleanup_text(docs, logging=False):\n",
    "    texts = []\n",
    "    counter = 1\n",
    "    for doc in docs:\n",
    "        if counter % 1000 == 0 and logging:\n",
    "            print(\"Processed %d out of %d documents.\" % (counter, len(docs)))\n",
    "        counter += 1\n",
    "        doc = nlp(doc, disable=['parser', 'ner'])\n",
    "        tokens = [tok.lemma_.lower().strip() for tok in doc if tok.lemma_ != '-PRON-']\n",
    "        tokens = [tok for tok in tokens if tok not in stopwords and tok not in punctuations]\n",
    "        tokens = ' '.join(tokens)\n",
    "        tokens = re.sub('@[^\\s]+','', tokens)\n",
    "        texts.append(tokens)\n",
    "    return pd.Series(texts)"
   ]
  },
  {
   "cell_type": "code",
   "execution_count": 78,
   "metadata": {},
   "outputs": [],
   "source": [
    "#tweets = pd.DataFrame(tweets, columns=['tweet'])\n",
    "#tw = [word for word in tweets['tweet']]\n",
    "\n",
    "# Clean up all text\n",
    "tw_clean = cleanup_text(tweets)"
   ]
  },
  {
   "cell_type": "code",
   "execution_count": 79,
   "metadata": {},
   "outputs": [],
   "source": [
    "letters = '🇦 🇧 🇨 🇩 🇪 🇫 🇬 🇭 🇮 🇯 🇰 🇱 🇲 🇳 🇴 🇵 🇶 🇷 🇸 🇹 🇺 🇻 🇼 🇽 🇾 🇿'.split()"
   ]
  },
  {
   "cell_type": "code",
   "execution_count": 80,
   "metadata": {},
   "outputs": [],
   "source": [
    "flags = mojis['unichar'][1458:]"
   ]
  },
  {
   "cell_type": "code",
   "execution_count": 81,
   "metadata": {},
   "outputs": [],
   "source": [
    "# change letters to flags\n",
    "def fix_flags(tweets):\n",
    "    fixed = []\n",
    "    for tweet in tweets:\n",
    "        for l in letters:\n",
    "            if l in tweet:\n",
    "                tweet = re.sub(l+\" \", l, tweet)\n",
    "        fixed.append(tweet)\n",
    "    return(fixed)"
   ]
  },
  {
   "cell_type": "code",
   "execution_count": 82,
   "metadata": {},
   "outputs": [],
   "source": [
    "tw_clean_flags = fix_flags(tw_clean)"
   ]
  },
  {
   "cell_type": "code",
   "execution_count": 83,
   "metadata": {},
   "outputs": [],
   "source": [
    "# put space after flag emojis\n",
    "def flags_space(tweets):\n",
    "    fixed = []\n",
    "    for tweet in tweets:\n",
    "        for l in flags:\n",
    "            if l in tweet:\n",
    "                tweet = re.sub(l, l+\" \", tweet)\n",
    "        fixed.append(tweet)\n",
    "    return(fixed)"
   ]
  },
  {
   "cell_type": "code",
   "execution_count": 84,
   "metadata": {},
   "outputs": [],
   "source": [
    "tw_cleaned = flags_space(tw_clean_flags)"
   ]
  },
  {
   "cell_type": "code",
   "execution_count": 85,
   "metadata": {},
   "outputs": [],
   "source": [
    "# complete list of emojis\n",
    "from emoji import UNICODE_EMOJI"
   ]
  },
  {
   "cell_type": "code",
   "execution_count": 86,
   "metadata": {},
   "outputs": [],
   "source": [
    "emojis = list(UNICODE_EMOJI.keys())"
   ]
  },
  {
   "cell_type": "code",
   "execution_count": 87,
   "metadata": {},
   "outputs": [],
   "source": [
    "def extract_mojis(tweets):\n",
    "    emoji = defaultdict(list)\n",
    "\n",
    "    for i, tweet in enumerate(tweets):\n",
    "        for word in tweet.split():\n",
    "            if word in emojis:\n",
    "                emoji['emoji'].append(word)\n",
    "                emoji['index'].append(i)\n",
    "    \n",
    "    # delete overlapping emojis in a tweet\n",
    "    emoji = pd.DataFrame(emoji).drop_duplicates()\n",
    "    \n",
    "    return(emoji)"
   ]
  },
  {
   "cell_type": "code",
   "execution_count": 88,
   "metadata": {},
   "outputs": [],
   "source": [
    "extracted = extract_mojis(tw_cleaned)"
   ]
  },
  {
   "cell_type": "code",
   "execution_count": 89,
   "metadata": {},
   "outputs": [],
   "source": [
    "def remove_emojis(tweets):\n",
    "    no_emojis = []\n",
    "    \n",
    "    for tweet in tweets:\n",
    "        tweet = tweet.split()\n",
    "        words = []\n",
    "        \n",
    "        for word in tweet:\n",
    "            if word not in list(extracted['emoji']):\n",
    "                words.append(word)\n",
    "        words = ' '.join(words)\n",
    "        no_emojis.append(words)\n",
    "    return(no_emojis)"
   ]
  },
  {
   "cell_type": "code",
   "execution_count": 90,
   "metadata": {},
   "outputs": [],
   "source": [
    "tw_no_emo = remove_emojis(tw_cleaned)"
   ]
  },
  {
   "cell_type": "markdown",
   "metadata": {},
   "source": [
    "There are still some unremoved emojis but I will come back to that later. Maybe try tdidf..."
   ]
  },
  {
   "cell_type": "code",
   "execution_count": 91,
   "metadata": {},
   "outputs": [],
   "source": [
    "tweets_df = pd.DataFrame(tw_no_emo, columns = ['tweets'])"
   ]
  },
  {
   "cell_type": "code",
   "execution_count": 92,
   "metadata": {},
   "outputs": [],
   "source": [
    "tweets_merged = pd.merge(extracted, tweets_df.reset_index(), on='index', how='left')"
   ]
  },
  {
   "cell_type": "code",
   "execution_count": 93,
   "metadata": {},
   "outputs": [],
   "source": [
    "# emojis with at least 10 tweets\n",
    "enough_emoji = tweets_merged.groupby('emoji').count()[tweets_merged.groupby('emoji').count()['tweets']>=10]\n",
    "enough_emoji = pd.merge(enough_emoji.reset_index()[['emoji']], tweets_merged, on='emoji', how='left')"
   ]
  },
  {
   "cell_type": "code",
   "execution_count": 94,
   "metadata": {
    "scrolled": false
   },
   "outputs": [
    {
     "data": {
      "text/html": [
       "<div>\n",
       "<style scoped>\n",
       "    .dataframe tbody tr th:only-of-type {\n",
       "        vertical-align: middle;\n",
       "    }\n",
       "\n",
       "    .dataframe tbody tr th {\n",
       "        vertical-align: top;\n",
       "    }\n",
       "\n",
       "    .dataframe thead th {\n",
       "        text-align: right;\n",
       "    }\n",
       "</style>\n",
       "<table border=\"1\" class=\"dataframe\">\n",
       "  <thead>\n",
       "    <tr style=\"text-align: right;\">\n",
       "      <th></th>\n",
       "      <th>emoji</th>\n",
       "      <th>index</th>\n",
       "      <th>tweets</th>\n",
       "    </tr>\n",
       "  </thead>\n",
       "  <tbody>\n",
       "    <tr>\n",
       "      <th>0</th>\n",
       "      <td>🙏</td>\n",
       "      <td>0</td>\n",
       "      <td>thank undertaker thank goldberg hope guy ok</td>\n",
       "    </tr>\n",
       "    <tr>\n",
       "      <th>1</th>\n",
       "      <td>💜</td>\n",
       "      <td>1</td>\n",
       "      <td>amazing concert yesterday paris btsinparis rai...</td>\n",
       "    </tr>\n",
       "    <tr>\n",
       "      <th>2</th>\n",
       "      <td>🔥</td>\n",
       "      <td>1</td>\n",
       "      <td>amazing concert yesterday paris btsinparis rai...</td>\n",
       "    </tr>\n",
       "    <tr>\n",
       "      <th>3</th>\n",
       "      <td>🚨</td>\n",
       "      <td>2</td>\n",
       "      <td>dallas ⁣ bring 2019 world tour ‘ keep spin nor...</td>\n",
       "    </tr>\n",
       "    <tr>\n",
       "      <th>4</th>\n",
       "      <td>2️⃣</td>\n",
       "      <td>2</td>\n",
       "      <td>dallas ⁣ bring 2019 world tour ‘ keep spin nor...</td>\n",
       "    </tr>\n",
       "  </tbody>\n",
       "</table>\n",
       "</div>"
      ],
      "text/plain": [
       "  emoji  index                                             tweets\n",
       "0     🙏      0        thank undertaker thank goldberg hope guy ok\n",
       "1     💜      1  amazing concert yesterday paris btsinparis rai...\n",
       "2     🔥      1  amazing concert yesterday paris btsinparis rai...\n",
       "3     🚨      2  dallas ⁣ bring 2019 world tour ‘ keep spin nor...\n",
       "4   2️⃣      2  dallas ⁣ bring 2019 world tour ‘ keep spin nor..."
      ]
     },
     "execution_count": 94,
     "metadata": {},
     "output_type": "execute_result"
    }
   ],
   "source": [
    "tweets_merged.head()"
   ]
  },
  {
   "cell_type": "code",
   "execution_count": 95,
   "metadata": {},
   "outputs": [],
   "source": [
    "pickle.dump(tweets_merged, open( \"./data/tweets_cleaned.pkl\", \"wb\"))"
   ]
  },
  {
   "cell_type": "code",
   "execution_count": 96,
   "metadata": {
    "scrolled": true
   },
   "outputs": [
    {
     "data": {
      "image/png": "[encoded data removed]",
      "text/plain": [
       "<Figure size 1080x864 with 1 Axes>"
      ]
     },
     "metadata": {
      "needs_background": "light"
     },
     "output_type": "display_data"
    }
   ],
   "source": [
    "import seaborn as sns\n",
    "import matplotlib.pyplot as plt\n",
    "from collections import Counter\n",
    "# Plot top 25 most frequently occuring words\n",
    "tw = [word for word in tweets_merged['tweets']]\n",
    "tw = ' '.join(tw).split()\n",
    "tw_counts = Counter(tw)\n",
    "tw_common_words = [word[0] for word in tw_counts.most_common(25)]\n",
    "tw_common_counts = [word[1] for word in tw_counts.most_common(25)]\n",
    "plt.figure(figsize=(15, 12))\n",
    "sns.barplot(x=tw_common_words, y=tw_common_counts)\n",
    "plt.show()"
   ]
  },
  {
   "cell_type": "code",
   "execution_count": 97,
   "metadata": {
    "scrolled": true
   },
   "outputs": [
    {
     "name": "stdout",
     "output_type": "stream",
     "text": [
      "    0    1    2    3    4    5   6   7   8   9   ...  15  16  17  18  19  20  \\\n",
      "0    😂    😭    ❤    🔥    😍    🤣   🙏   ♀   ✨   🥺  ...   🤔   🤷   👏   🚨   💚   💕   \n",
      "1  499  270  230  198  139  122  93  87  83  83  ...  68  66  65  61  60  59   \n",
      "\n",
      "   21  22  23  24  \n",
      "0   🙄   👍   💙   😩  \n",
      "1  59  58  58  54  \n",
      "\n",
      "[2 rows x 25 columns]\n"
     ]
    }
   ],
   "source": [
    "import seaborn as sns\n",
    "import matplotlib.pyplot as plt\n",
    "from collections import Counter\n",
    "# Plot top 25 most frequently occuring emojis\n",
    "tw = [word for word in tweets_merged['emoji']]\n",
    "tw_counts = Counter(tw)\n",
    "tw_common_words = [word[0] for word in tw_counts.most_common(25)]\n",
    "tw_common_counts = [word[1] for word in tw_counts.most_common(25)]\n",
    "print(pd.DataFrame([tw_common_words,tw_common_counts]))"
   ]
  }
 ],
 "metadata": {
  "kernelspec": {
   "display_name": "Python 3",
   "language": "python",
   "name": "python3"
  },
  "language_info": {
   "codemirror_mode": {
    "name": "ipython",
    "version": 3
   },
   "file_extension": ".py",
   "mimetype": "text/x-python",
   "name": "python",
   "nbconvert_exporter": "python",
   "pygments_lexer": "ipython3",
   "version": "3.6.8"
  }
 },
 "nbformat": 4,
 "nbformat_minor": 2
}
