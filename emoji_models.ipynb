{
 "cells": [
  {
   "cell_type": "markdown",
   "metadata": {},
   "source": [
    "# Emojis Speak More than Words\n",
    "\n",
    "GOAL: \n",
    "    1. give an \"issue word\" as an input (ex. ocasio, climate change) and find the most related emoji\n",
    "    to kinda grasp people's opinions\n",
    "    2. give any word or a saying and get a emoji that is most related ex. sparkle --> ✨\n"
   ]
  },
  {
   "cell_type": "code",
   "execution_count": 7,
   "metadata": {},
   "outputs": [],
   "source": [
    "import pickle\n",
    "import numpy as np\n",
    "import pandas as pd\n",
    "from collections import Counter"
   ]
  },
  {
   "cell_type": "code",
   "execution_count": 46,
   "metadata": {},
   "outputs": [],
   "source": [
    "from sklearn.model_selection import train_test_split\n",
    "from sklearn.feature_extraction.text import TfidfVectorizer\n",
    "from sklearn import model_selection, naive_bayes, svm\n",
    "from sklearn.linear_model import SGDClassifier\n",
    "from sklearn.metrics import accuracy_score\n",
    "from sklearn.feature_extraction.stop_words import ENGLISH_STOP_WORDS\n",
    "import scipy.sparse as sp"
   ]
  },
  {
   "cell_type": "code",
   "execution_count": null,
   "metadata": {},
   "outputs": [],
   "source": [
    "# read topic words data\n",
    "from read_tweets import read_tweets\n",
    "reading = read_tweets()\n",
    "tweets = reading.emoji_tweets(['ocasio cortez', 'climate change', 'greta'], \n",
    "                              num_batches = 20, num_tweets = 100)"
   ]
  },
  {
   "cell_type": "code",
   "execution_count": 3,
   "metadata": {},
   "outputs": [
    {
     "name": "stderr",
     "output_type": "stream",
     "text": [
      "[nltk_data] Downloading package stopwords to /Users/sara/nltk_data...\n",
      "[nltk_data]   Package stopwords is already up-to-date!\n"
     ]
    }
   ],
   "source": [
    "from clean_tweets import clean_tweets\n",
    "cleaning = clean_tweets()\n",
    "tweets_df = cleaning.tweets_df(tweets)"
   ]
  },
  {
   "cell_type": "code",
   "execution_count": 4,
   "metadata": {},
   "outputs": [
    {
     "name": "stdout",
     "output_type": "stream",
     "text": [
      "     0    1    2    3    4    5    6    7    8    9   ...   15   16   17   18  \\\n",
      "0     😂    😭    ❤    🔥    🤣    😍    🥺    ♀    ✨    🙏  ...    😊    🙌    🤷    🚨   \n",
      "1  1029  603  602  338  285  283  218  216  199  198  ...  147  144  143  141   \n",
      "\n",
      "    19   20   21   22   23   24  \n",
      "0    👀    🎉    😩    🥰    👏    🤦  \n",
      "1  139  138  133  131  125  123  \n",
      "\n",
      "[2 rows x 25 columns]\n"
     ]
    }
   ],
   "source": [
    "cleaning.top_emojis(tweets_df)"
   ]
  },
  {
   "cell_type": "markdown",
   "metadata": {},
   "source": [
    "too many laughing face..."
   ]
  },
  {
   "cell_type": "code",
   "execution_count": 8,
   "metadata": {},
   "outputs": [],
   "source": [
    "tw = [word for word in tweets_df['emoji']]\n",
    "tw_counts = Counter(tw)"
   ]
  },
  {
   "cell_type": "code",
   "execution_count": 9,
   "metadata": {},
   "outputs": [],
   "source": [
    "common_emoji = tweets_df[tweets_df['emoji'].isin(pd.DataFrame(tw_counts.most_common(30))[0])]\n",
    "common_emoji_removed = tweets_df[~tweets_df['emoji'].isin(pd.DataFrame(tw_counts.most_common(30))[0])]"
   ]
  },
  {
   "cell_type": "code",
   "execution_count": 10,
   "metadata": {},
   "outputs": [],
   "source": [
    "X = tweets_df['tweets'].values\n",
    "y = tweets_df['emoji']"
   ]
  },
  {
   "cell_type": "code",
   "execution_count": 16,
   "metadata": {},
   "outputs": [],
   "source": [
    "stopwords = set(list(ENGLISH_STOP_WORDS) + ['rt', 'follow', 'dm', 'https', 'ur', 'll' ,'amp', 'subscribe', 'don', 've', 'retweet', 'im', 'http','lt'])\n",
    "tfidf = TfidfVectorizer(max_features=10000, max_df = .8, min_df = .001, stop_words = stopwords, ngram_range = (1,2))\n",
    "tfidf.fit(X)\n",
    "X_tfidf = tfidf.transform(X)"
   ]
  },
  {
   "cell_type": "markdown",
   "metadata": {},
   "source": [
    "Since the emojis that is taking up the majority class in the dataset is too dominant in our predictions, I will try to balance\n",
    "them out by taking them out seperately and apply random undersampler."
   ]
  },
  {
   "cell_type": "code",
   "execution_count": 18,
   "metadata": {},
   "outputs": [],
   "source": [
    "# majority emoji index\n",
    "majority_idx = np.where(y.isin(pd.DataFrame(tw_counts.most_common(30))[0]))\n",
    "y_majority = y[y.isin(pd.DataFrame(tw_counts.most_common(30))[0])]"
   ]
  },
  {
   "cell_type": "code",
   "execution_count": 21,
   "metadata": {},
   "outputs": [],
   "source": [
    "# minority\n",
    "minority_idx = np.where(~y.isin(pd.DataFrame(tw_counts.most_common(30))[0]))\n",
    "y_minority = y[~y.isin(pd.DataFrame(tw_counts.most_common(30))[0])]"
   ]
  },
  {
   "cell_type": "code",
   "execution_count": 22,
   "metadata": {},
   "outputs": [],
   "source": [
    "X_minority = X_tfidf[minority_idx]"
   ]
  },
  {
   "cell_type": "code",
   "execution_count": 23,
   "metadata": {},
   "outputs": [
    {
     "data": {
      "text/plain": [
       "(8718, 1181)"
      ]
     },
     "execution_count": 23,
     "metadata": {},
     "output_type": "execute_result"
    }
   ],
   "source": [
    "X_minority.shape"
   ]
  },
  {
   "cell_type": "code",
   "execution_count": 24,
   "metadata": {},
   "outputs": [
    {
     "data": {
      "text/plain": [
       "6758"
      ]
     },
     "execution_count": 24,
     "metadata": {},
     "output_type": "execute_result"
    }
   ],
   "source": [
    "len(y_majority)"
   ]
  },
  {
   "cell_type": "code",
   "execution_count": 25,
   "metadata": {},
   "outputs": [],
   "source": [
    "X_majority = X_tfidf[majority_idx]"
   ]
  },
  {
   "cell_type": "code",
   "execution_count": 26,
   "metadata": {},
   "outputs": [
    {
     "name": "stdout",
     "output_type": "stream",
     "text": [
      "(6758, 1181) 6758\n"
     ]
    }
   ],
   "source": [
    "print(X_majority.shape, len(y_majority))"
   ]
  },
  {
   "cell_type": "code",
   "execution_count": 27,
   "metadata": {},
   "outputs": [
    {
     "name": "stderr",
     "output_type": "stream",
     "text": [
      "Using TensorFlow backend.\n"
     ]
    },
    {
     "name": "stdout",
     "output_type": "stream",
     "text": [
      "(3270, 1181)\n",
      "3270\n"
     ]
    }
   ],
   "source": [
    "from imblearn.under_sampling import RandomUnderSampler\n",
    "rus = RandomUnderSampler(random_state=0, replacement=False)\n",
    "X_subsample, y_subsample = rus.fit_sample(X_majority, y_majority)\n",
    "print(X_subsample.shape)\n",
    "print(len(y_subsample))"
   ]
  },
  {
   "cell_type": "markdown",
   "metadata": {},
   "source": [
    "when the majority classes are balanced the size dropped to 3270 from 6758."
   ]
  },
  {
   "cell_type": "code",
   "execution_count": 35,
   "metadata": {},
   "outputs": [],
   "source": [
    "X_tfidf = sp.vstack((X_subsample, X_minority))\n",
    "y = np.concatenate((y_subsample, y_minority), axis=None)"
   ]
  },
  {
   "cell_type": "code",
   "execution_count": 36,
   "metadata": {
    "scrolled": true
   },
   "outputs": [
    {
     "data": {
      "text/plain": [
       "<11988x1181 sparse matrix of type '<class 'numpy.float64'>'\n",
       "\twith 53289 stored elements in Compressed Sparse Row format>"
      ]
     },
     "execution_count": 36,
     "metadata": {},
     "output_type": "execute_result"
    }
   ],
   "source": [
    "X_tfidf"
   ]
  },
  {
   "cell_type": "markdown",
   "metadata": {},
   "source": [
    "Let's model tweets with naive bayes and svm algorithms"
   ]
  },
  {
   "cell_type": "code",
   "execution_count": 31,
   "metadata": {},
   "outputs": [],
   "source": [
    "np.random.seed(123)"
   ]
  },
  {
   "cell_type": "code",
   "execution_count": 32,
   "metadata": {
    "scrolled": true
   },
   "outputs": [
    {
     "name": "stdout",
     "output_type": "stream",
     "text": [
      "Working with 10134 tweets\n"
     ]
    }
   ],
   "source": [
    "print(\"Working with {} tweets\".format(len(tweets_df['tweets'].unique())))"
   ]
  },
  {
   "cell_type": "code",
   "execution_count": 37,
   "metadata": {},
   "outputs": [],
   "source": [
    "X_train, X_test, y_train, y_test = train_test_split(X_tfidf, y, test_size=0.2, random_state=0)"
   ]
  },
  {
   "cell_type": "code",
   "execution_count": 42,
   "metadata": {},
   "outputs": [
    {
     "name": "stdout",
     "output_type": "stream",
     "text": [
      "Naive Bayes Accuracy Score ->  3.9616346955796495\n",
      "CPU times: user 504 ms, sys: 119 ms, total: 623 ms\n",
      "Wall time: 802 ms\n"
     ]
    }
   ],
   "source": [
    "%%time\n",
    "# Naive Bayes multinom\n",
    "nb = naive_bayes.MultinomialNB()\n",
    "nb.fit(X_train, y_train)\n",
    "# predict the labels on validation dataset\n",
    "predictions_nb = nb.predict(X_test)\n",
    "# Use accuracy_score function to get the accuracy\n",
    "nb_score = accuracy_score(predictions_nb, y_test)*100\n",
    "print(\"Naive Bayes Accuracy Score -> \", nb_score)"
   ]
  },
  {
   "cell_type": "code",
   "execution_count": 43,
   "metadata": {
    "scrolled": true
   },
   "outputs": [
    {
     "name": "stdout",
     "output_type": "stream",
     "text": [
      "Stochastic Gradient Descent Accuracy Score ->  3.9616346955796495\n",
      "CPU times: user 12.7 s, sys: 77.5 ms, total: 12.7 s\n",
      "Wall time: 13 s\n"
     ]
    }
   ],
   "source": [
    "%%time\n",
    "sgd = SGDClassifier(loss=\"log\", alpha=.0001, max_iter=50, penalty=\"elasticnet\")\n",
    "sgd.fit(X_train, y_train)\n",
    "# predict the labels on validation dataset\n",
    "predictions_sgd = nb.predict(X_test)\n",
    "# Use accuracy_score function to get the accuracy\n",
    "sgd_score = accuracy_score(predictions_sgd, y_test)*100\n",
    "print(\"Stochastic Gradient Descent Accuracy Score -> \", sgd_score)"
   ]
  },
  {
   "cell_type": "code",
   "execution_count": 44,
   "metadata": {},
   "outputs": [
    {
     "name": "stdout",
     "output_type": "stream",
     "text": [
      "Gaussian Naive Bayes Accuracy Score ->  1.834862385321101\n",
      "CPU times: user 18 s, sys: 4.5 s, total: 22.6 s\n",
      "Wall time: 24.4 s\n"
     ]
    }
   ],
   "source": [
    "%%time\n",
    "# Naive Bayes gaussian\n",
    "gnb = naive_bayes.GaussianNB()\n",
    "gnb.fit(X_train.todense(), y_train)\n",
    "predictions_gnb = gnb.predict(X_test.todense())\n",
    "gnb_score = accuracy_score(predictions_gnb, y_test)*100\n",
    "print(\"Gaussian Naive Bayes Accuracy Score -> \", gnb_score)"
   ]
  },
  {
   "cell_type": "code",
   "execution_count": 47,
   "metadata": {
    "scrolled": true
   },
   "outputs": [
    {
     "name": "stdout",
     "output_type": "stream",
     "text": [
      "SVM Accuracy Score ->  3.878231859883236\n",
      "CPU times: user 3min 42s, sys: 995 ms, total: 3min 43s\n",
      "Wall time: 3min 44s\n"
     ]
    }
   ],
   "source": [
    "%%time\n",
    "# SVM\n",
    "svm = svm.SVC(C=1.0, kernel='linear', degree=3, gamma='auto', probability=True)\n",
    "svm.fit(X_train, y_train)\n",
    "# predict the labels on validation dataset\n",
    "predictions_svm = svm.predict(X_test)\n",
    "# Use accuracy_score function to get the accuracy\n",
    "score = accuracy_score(predictions_svm, y_test)*100\n",
    "print(\"SVM Accuracy Score -> \",score)"
   ]
  },
  {
   "cell_type": "code",
   "execution_count": 58,
   "metadata": {},
   "outputs": [],
   "source": [
    "# prediction\n",
    "def prediction(model, text, top_n = 5):\n",
    "    test_tfidf = tfidf.transform([text])\n",
    "    if model == gnb:\n",
    "        probs = model.predict_proba(test_tfidf.todense())\n",
    "        predict_rank = pd.DataFrame({type(model).__name__+' predictions': gnb.classes_, 'probs': probs[0]})\n",
    "        predict_rank = predict_rank[predict_rank['probs']>0]\n",
    "        predict_rank = predict_rank.sort_values(by = 'probs', ascending = False)\n",
    "\n",
    "    else:\n",
    "        probs = model.predict_proba(test_tfidf.todense())\n",
    "        predict_rank = pd.DataFrame({type(model).__name__+' predictions': model.classes_, 'probs': probs[0]})\n",
    "        predict_rank = predict_rank.sort_values(by = 'probs', ascending = False)\n",
    "    \n",
    "    return(predict_rank[:top_n].reset_index(drop=True)) \n",
    "\n",
    "\n",
    "def print_prediction(text, models = [gnb, sgd, nb, svm], top_n = 5):\n",
    "    df = pd.DataFrame()\n",
    "    for i in models:\n",
    "        df = pd.concat([df, prediction(i, text, top_n)], axis=1)\n",
    "    print('top {} predictions for {} is:'.format(top_n, text))\n",
    "    return(df)"
   ]
  },
  {
   "cell_type": "code",
   "execution_count": 59,
   "metadata": {
    "scrolled": true
   },
   "outputs": [
    {
     "name": "stdout",
     "output_type": "stream",
     "text": [
      "top 5 predictions for trump is:\n"
     ]
    },
    {
     "data": {
      "text/html": [
       "<div>\n",
       "<style scoped>\n",
       "    .dataframe tbody tr th:only-of-type {\n",
       "        vertical-align: middle;\n",
       "    }\n",
       "\n",
       "    .dataframe tbody tr th {\n",
       "        vertical-align: top;\n",
       "    }\n",
       "\n",
       "    .dataframe thead th {\n",
       "        text-align: right;\n",
       "    }\n",
       "</style>\n",
       "<table border=\"1\" class=\"dataframe\">\n",
       "  <thead>\n",
       "    <tr style=\"text-align: right;\">\n",
       "      <th></th>\n",
       "      <th>GaussianNB predictions</th>\n",
       "      <th>probs</th>\n",
       "      <th>SGDClassifier predictions</th>\n",
       "      <th>probs</th>\n",
       "      <th>MultinomialNB predictions</th>\n",
       "      <th>probs</th>\n",
       "      <th>SVC predictions</th>\n",
       "      <th>probs</th>\n",
       "    </tr>\n",
       "  </thead>\n",
       "  <tbody>\n",
       "    <tr>\n",
       "      <th>0</th>\n",
       "      <td>✳</td>\n",
       "      <td>1.000000e+00</td>\n",
       "      <td>🙄</td>\n",
       "      <td>0.011932</td>\n",
       "      <td>🇺🇸</td>\n",
       "      <td>0.027303</td>\n",
       "      <td>🇺🇸</td>\n",
       "      <td>0.019855</td>\n",
       "    </tr>\n",
       "    <tr>\n",
       "      <th>1</th>\n",
       "      <td>🔹</td>\n",
       "      <td>3.629604e-19</td>\n",
       "      <td>🇺🇸</td>\n",
       "      <td>0.010432</td>\n",
       "      <td>🙄</td>\n",
       "      <td>0.025196</td>\n",
       "      <td>🙄</td>\n",
       "      <td>0.018551</td>\n",
       "    </tr>\n",
       "    <tr>\n",
       "      <th>2</th>\n",
       "      <td>⬆</td>\n",
       "      <td>1.511671e-36</td>\n",
       "      <td>👇</td>\n",
       "      <td>0.006659</td>\n",
       "      <td>👍</td>\n",
       "      <td>0.021081</td>\n",
       "      <td>👍</td>\n",
       "      <td>0.016725</td>\n",
       "    </tr>\n",
       "    <tr>\n",
       "      <th>3</th>\n",
       "      <td>🚂</td>\n",
       "      <td>7.013839e-37</td>\n",
       "      <td>👍</td>\n",
       "      <td>0.006611</td>\n",
       "      <td>💯</td>\n",
       "      <td>0.019423</td>\n",
       "      <td>💯</td>\n",
       "      <td>0.015774</td>\n",
       "    </tr>\n",
       "    <tr>\n",
       "      <th>4</th>\n",
       "      <td>✝</td>\n",
       "      <td>1.125989e-47</td>\n",
       "      <td>💯</td>\n",
       "      <td>0.005627</td>\n",
       "      <td>👇</td>\n",
       "      <td>0.018425</td>\n",
       "      <td>❤</td>\n",
       "      <td>0.013888</td>\n",
       "    </tr>\n",
       "  </tbody>\n",
       "</table>\n",
       "</div>"
      ],
      "text/plain": [
       "  GaussianNB predictions         probs SGDClassifier predictions     probs  \\\n",
       "0                      ✳  1.000000e+00                         🙄  0.011932   \n",
       "1                      🔹  3.629604e-19                        🇺🇸  0.010432   \n",
       "2                      ⬆  1.511671e-36                         👇  0.006659   \n",
       "3                      🚂  7.013839e-37                         👍  0.006611   \n",
       "4                      ✝  1.125989e-47                         💯  0.005627   \n",
       "\n",
       "  MultinomialNB predictions     probs SVC predictions     probs  \n",
       "0                        🇺🇸  0.027303              🇺🇸  0.019855  \n",
       "1                         🙄  0.025196               🙄  0.018551  \n",
       "2                         👍  0.021081               👍  0.016725  \n",
       "3                         💯  0.019423               💯  0.015774  \n",
       "4                         👇  0.018425               ❤  0.013888  "
      ]
     },
     "execution_count": 59,
     "metadata": {},
     "output_type": "execute_result"
    }
   ],
   "source": [
    "print_prediction(text = 'trump', top_n = 5)"
   ]
  },
  {
   "cell_type": "code",
   "execution_count": 105,
   "metadata": {},
   "outputs": [
    {
     "name": "stdout",
     "output_type": "stream",
     "text": [
      "top 5 predictions for family and friends is:\n"
     ]
    },
    {
     "data": {
      "text/html": [
       "<div>\n",
       "<style scoped>\n",
       "    .dataframe tbody tr th:only-of-type {\n",
       "        vertical-align: middle;\n",
       "    }\n",
       "\n",
       "    .dataframe tbody tr th {\n",
       "        vertical-align: top;\n",
       "    }\n",
       "\n",
       "    .dataframe thead th {\n",
       "        text-align: right;\n",
       "    }\n",
       "</style>\n",
       "<table border=\"1\" class=\"dataframe\">\n",
       "  <thead>\n",
       "    <tr style=\"text-align: right;\">\n",
       "      <th></th>\n",
       "      <th>GaussianNB predictions</th>\n",
       "      <th>probs</th>\n",
       "      <th>SGDClassifier predictions</th>\n",
       "      <th>probs</th>\n",
       "      <th>MultinomialNB predictions</th>\n",
       "      <th>probs</th>\n",
       "      <th>SVC predictions</th>\n",
       "      <th>probs</th>\n",
       "    </tr>\n",
       "  </thead>\n",
       "  <tbody>\n",
       "    <tr>\n",
       "      <th>0</th>\n",
       "      <td>❣</td>\n",
       "      <td>1.000000e+00</td>\n",
       "      <td>🙏</td>\n",
       "      <td>0.004573</td>\n",
       "      <td>💯</td>\n",
       "      <td>0.014022</td>\n",
       "      <td>👀</td>\n",
       "      <td>0.016168</td>\n",
       "    </tr>\n",
       "    <tr>\n",
       "      <th>1</th>\n",
       "      <td>💞</td>\n",
       "      <td>1.320782e-251</td>\n",
       "      <td>😭</td>\n",
       "      <td>0.003691</td>\n",
       "      <td>👀</td>\n",
       "      <td>0.013604</td>\n",
       "      <td>🌈</td>\n",
       "      <td>0.012484</td>\n",
       "    </tr>\n",
       "    <tr>\n",
       "      <th>2</th>\n",
       "      <td>✌</td>\n",
       "      <td>2.458752e-297</td>\n",
       "      <td>👀</td>\n",
       "      <td>0.003635</td>\n",
       "      <td>🙏</td>\n",
       "      <td>0.012978</td>\n",
       "      <td>😭</td>\n",
       "      <td>0.011766</td>\n",
       "    </tr>\n",
       "    <tr>\n",
       "      <th>3</th>\n",
       "      <td>NaN</td>\n",
       "      <td>NaN</td>\n",
       "      <td>♀</td>\n",
       "      <td>0.003447</td>\n",
       "      <td>♀</td>\n",
       "      <td>0.012398</td>\n",
       "      <td>♀</td>\n",
       "      <td>0.011762</td>\n",
       "    </tr>\n",
       "    <tr>\n",
       "      <th>4</th>\n",
       "      <td>NaN</td>\n",
       "      <td>NaN</td>\n",
       "      <td>💯</td>\n",
       "      <td>0.003026</td>\n",
       "      <td>▶</td>\n",
       "      <td>0.012207</td>\n",
       "      <td>🙏</td>\n",
       "      <td>0.011747</td>\n",
       "    </tr>\n",
       "  </tbody>\n",
       "</table>\n",
       "</div>"
      ],
      "text/plain": [
       "  GaussianNB predictions          probs SGDClassifier predictions     probs  \\\n",
       "0                      ❣   1.000000e+00                         🙏  0.004573   \n",
       "1                      💞  1.320782e-251                         😭  0.003691   \n",
       "2                      ✌  2.458752e-297                         👀  0.003635   \n",
       "3                    NaN            NaN                         ♀  0.003447   \n",
       "4                    NaN            NaN                         💯  0.003026   \n",
       "\n",
       "  MultinomialNB predictions     probs SVC predictions     probs  \n",
       "0                         💯  0.014022               👀  0.016168  \n",
       "1                         👀  0.013604               🌈  0.012484  \n",
       "2                         🙏  0.012978               😭  0.011766  \n",
       "3                         ♀  0.012398               ♀  0.011762  \n",
       "4                         ▶  0.012207               🙏  0.011747  "
      ]
     },
     "execution_count": 105,
     "metadata": {},
     "output_type": "execute_result"
    }
   ],
   "source": [
    "print_prediction(text = 'family and friends', top_n = 5)"
   ]
  },
  {
   "cell_type": "code",
   "execution_count": 61,
   "metadata": {},
   "outputs": [
    {
     "name": "stdout",
     "output_type": "stream",
     "text": [
      "top 5 predictions for nothing makes me happier than a box of chocolate is:\n"
     ]
    },
    {
     "data": {
      "text/html": [
       "<div>\n",
       "<style scoped>\n",
       "    .dataframe tbody tr th:only-of-type {\n",
       "        vertical-align: middle;\n",
       "    }\n",
       "\n",
       "    .dataframe tbody tr th {\n",
       "        vertical-align: top;\n",
       "    }\n",
       "\n",
       "    .dataframe thead th {\n",
       "        text-align: right;\n",
       "    }\n",
       "</style>\n",
       "<table border=\"1\" class=\"dataframe\">\n",
       "  <thead>\n",
       "    <tr style=\"text-align: right;\">\n",
       "      <th></th>\n",
       "      <th>GaussianNB predictions</th>\n",
       "      <th>probs</th>\n",
       "      <th>SGDClassifier predictions</th>\n",
       "      <th>probs</th>\n",
       "      <th>MultinomialNB predictions</th>\n",
       "      <th>probs</th>\n",
       "      <th>SVC predictions</th>\n",
       "      <th>probs</th>\n",
       "    </tr>\n",
       "  </thead>\n",
       "  <tbody>\n",
       "    <tr>\n",
       "      <th>0</th>\n",
       "      <td>🍇</td>\n",
       "      <td>1.000000e+00</td>\n",
       "      <td>🍫</td>\n",
       "      <td>0.011397</td>\n",
       "      <td>💕</td>\n",
       "      <td>0.012347</td>\n",
       "      <td>🙌</td>\n",
       "      <td>0.011355</td>\n",
       "    </tr>\n",
       "    <tr>\n",
       "      <th>1</th>\n",
       "      <td>🍩</td>\n",
       "      <td>1.330273e-41</td>\n",
       "      <td>🍓</td>\n",
       "      <td>0.005292</td>\n",
       "      <td>🙌</td>\n",
       "      <td>0.011763</td>\n",
       "      <td>💕</td>\n",
       "      <td>0.011031</td>\n",
       "    </tr>\n",
       "    <tr>\n",
       "      <th>2</th>\n",
       "      <td>🍏</td>\n",
       "      <td>9.078833e-53</td>\n",
       "      <td>🍒</td>\n",
       "      <td>0.002982</td>\n",
       "      <td>🎉</td>\n",
       "      <td>0.011200</td>\n",
       "      <td>💙</td>\n",
       "      <td>0.009720</td>\n",
       "    </tr>\n",
       "    <tr>\n",
       "      <th>3</th>\n",
       "      <td>🍫</td>\n",
       "      <td>2.566007e-62</td>\n",
       "      <td>😅</td>\n",
       "      <td>0.002827</td>\n",
       "      <td>😅</td>\n",
       "      <td>0.010808</td>\n",
       "      <td>😅</td>\n",
       "      <td>0.009511</td>\n",
       "    </tr>\n",
       "    <tr>\n",
       "      <th>4</th>\n",
       "      <td>🍰</td>\n",
       "      <td>5.353955e-100</td>\n",
       "      <td>🔥</td>\n",
       "      <td>0.002744</td>\n",
       "      <td>💙</td>\n",
       "      <td>0.010464</td>\n",
       "      <td>👏</td>\n",
       "      <td>0.009226</td>\n",
       "    </tr>\n",
       "  </tbody>\n",
       "</table>\n",
       "</div>"
      ],
      "text/plain": [
       "  GaussianNB predictions          probs SGDClassifier predictions     probs  \\\n",
       "0                      🍇   1.000000e+00                         🍫  0.011397   \n",
       "1                      🍩   1.330273e-41                         🍓  0.005292   \n",
       "2                      🍏   9.078833e-53                         🍒  0.002982   \n",
       "3                      🍫   2.566007e-62                         😅  0.002827   \n",
       "4                      🍰  5.353955e-100                         🔥  0.002744   \n",
       "\n",
       "  MultinomialNB predictions     probs SVC predictions     probs  \n",
       "0                         💕  0.012347               🙌  0.011355  \n",
       "1                         🙌  0.011763               💕  0.011031  \n",
       "2                         🎉  0.011200               💙  0.009720  \n",
       "3                         😅  0.010808               😅  0.009511  \n",
       "4                         💙  0.010464               👏  0.009226  "
      ]
     },
     "execution_count": 61,
     "metadata": {},
     "output_type": "execute_result"
    }
   ],
   "source": [
    "print_prediction(text = 'nothing makes me happier than a box of chocolate', top_n = 5)"
   ]
  },
  {
   "cell_type": "code",
   "execution_count": 62,
   "metadata": {},
   "outputs": [
    {
     "name": "stdout",
     "output_type": "stream",
     "text": [
      "top 5 predictions for vegan is:\n"
     ]
    },
    {
     "data": {
      "text/html": [
       "<div>\n",
       "<style scoped>\n",
       "    .dataframe tbody tr th:only-of-type {\n",
       "        vertical-align: middle;\n",
       "    }\n",
       "\n",
       "    .dataframe tbody tr th {\n",
       "        vertical-align: top;\n",
       "    }\n",
       "\n",
       "    .dataframe thead th {\n",
       "        text-align: right;\n",
       "    }\n",
       "</style>\n",
       "<table border=\"1\" class=\"dataframe\">\n",
       "  <thead>\n",
       "    <tr style=\"text-align: right;\">\n",
       "      <th></th>\n",
       "      <th>GaussianNB predictions</th>\n",
       "      <th>probs</th>\n",
       "      <th>SGDClassifier predictions</th>\n",
       "      <th>probs</th>\n",
       "      <th>MultinomialNB predictions</th>\n",
       "      <th>probs</th>\n",
       "      <th>SVC predictions</th>\n",
       "      <th>probs</th>\n",
       "    </tr>\n",
       "  </thead>\n",
       "  <tbody>\n",
       "    <tr>\n",
       "      <th>0</th>\n",
       "      <td>🐓</td>\n",
       "      <td>1.000000e+00</td>\n",
       "      <td>🌱</td>\n",
       "      <td>0.085560</td>\n",
       "      <td>🌱</td>\n",
       "      <td>0.052167</td>\n",
       "      <td>🌱</td>\n",
       "      <td>0.051256</td>\n",
       "    </tr>\n",
       "    <tr>\n",
       "      <th>1</th>\n",
       "      <td>🍧</td>\n",
       "      <td>5.154602e-14</td>\n",
       "      <td>💚</td>\n",
       "      <td>0.010678</td>\n",
       "      <td>💚</td>\n",
       "      <td>0.028289</td>\n",
       "      <td>💚</td>\n",
       "      <td>0.014383</td>\n",
       "    </tr>\n",
       "    <tr>\n",
       "      <th>2</th>\n",
       "      <td>📦</td>\n",
       "      <td>5.629186e-25</td>\n",
       "      <td>😋</td>\n",
       "      <td>0.010346</td>\n",
       "      <td>🙌</td>\n",
       "      <td>0.022048</td>\n",
       "      <td>😍</td>\n",
       "      <td>0.013056</td>\n",
       "    </tr>\n",
       "    <tr>\n",
       "      <th>3</th>\n",
       "      <td>🍎</td>\n",
       "      <td>1.690493e-30</td>\n",
       "      <td>🙌</td>\n",
       "      <td>0.007129</td>\n",
       "      <td>😍</td>\n",
       "      <td>0.022029</td>\n",
       "      <td>🙌</td>\n",
       "      <td>0.012728</td>\n",
       "    </tr>\n",
       "    <tr>\n",
       "      <th>4</th>\n",
       "      <td>🔝</td>\n",
       "      <td>2.786584e-34</td>\n",
       "      <td>😍</td>\n",
       "      <td>0.006986</td>\n",
       "      <td>🤦</td>\n",
       "      <td>0.017476</td>\n",
       "      <td>🤦</td>\n",
       "      <td>0.011600</td>\n",
       "    </tr>\n",
       "  </tbody>\n",
       "</table>\n",
       "</div>"
      ],
      "text/plain": [
       "  GaussianNB predictions         probs SGDClassifier predictions     probs  \\\n",
       "0                      🐓  1.000000e+00                         🌱  0.085560   \n",
       "1                      🍧  5.154602e-14                         💚  0.010678   \n",
       "2                      📦  5.629186e-25                         😋  0.010346   \n",
       "3                      🍎  1.690493e-30                         🙌  0.007129   \n",
       "4                      🔝  2.786584e-34                         😍  0.006986   \n",
       "\n",
       "  MultinomialNB predictions     probs SVC predictions     probs  \n",
       "0                         🌱  0.052167               🌱  0.051256  \n",
       "1                         💚  0.028289               💚  0.014383  \n",
       "2                         🙌  0.022048               😍  0.013056  \n",
       "3                         😍  0.022029               🙌  0.012728  \n",
       "4                         🤦  0.017476               🤦  0.011600  "
      ]
     },
     "execution_count": 62,
     "metadata": {},
     "output_type": "execute_result"
    }
   ],
   "source": [
    "print_prediction(text = 'vegan', top_n = 5)"
   ]
  },
  {
   "cell_type": "code",
   "execution_count": 63,
   "metadata": {},
   "outputs": [
    {
     "name": "stdout",
     "output_type": "stream",
     "text": [
      "top 5 predictions for summer is:\n"
     ]
    },
    {
     "data": {
      "text/html": [
       "<div>\n",
       "<style scoped>\n",
       "    .dataframe tbody tr th:only-of-type {\n",
       "        vertical-align: middle;\n",
       "    }\n",
       "\n",
       "    .dataframe tbody tr th {\n",
       "        vertical-align: top;\n",
       "    }\n",
       "\n",
       "    .dataframe thead th {\n",
       "        text-align: right;\n",
       "    }\n",
       "</style>\n",
       "<table border=\"1\" class=\"dataframe\">\n",
       "  <thead>\n",
       "    <tr style=\"text-align: right;\">\n",
       "      <th></th>\n",
       "      <th>GaussianNB predictions</th>\n",
       "      <th>probs</th>\n",
       "      <th>SGDClassifier predictions</th>\n",
       "      <th>probs</th>\n",
       "      <th>MultinomialNB predictions</th>\n",
       "      <th>probs</th>\n",
       "      <th>SVC predictions</th>\n",
       "      <th>probs</th>\n",
       "    </tr>\n",
       "  </thead>\n",
       "  <tbody>\n",
       "    <tr>\n",
       "      <th>0</th>\n",
       "      <td>🛶</td>\n",
       "      <td>9.999262e-01</td>\n",
       "      <td>☀</td>\n",
       "      <td>0.064304</td>\n",
       "      <td>☀</td>\n",
       "      <td>0.043573</td>\n",
       "      <td>☀</td>\n",
       "      <td>0.032439</td>\n",
       "    </tr>\n",
       "    <tr>\n",
       "      <th>1</th>\n",
       "      <td>👿</td>\n",
       "      <td>7.380386e-05</td>\n",
       "      <td>🌞</td>\n",
       "      <td>0.017167</td>\n",
       "      <td>😎</td>\n",
       "      <td>0.026232</td>\n",
       "      <td>😎</td>\n",
       "      <td>0.015742</td>\n",
       "    </tr>\n",
       "    <tr>\n",
       "      <th>2</th>\n",
       "      <td>9️⃣</td>\n",
       "      <td>1.161721e-25</td>\n",
       "      <td>😎</td>\n",
       "      <td>0.012658</td>\n",
       "      <td>😩</td>\n",
       "      <td>0.020328</td>\n",
       "      <td>💖</td>\n",
       "      <td>0.011224</td>\n",
       "    </tr>\n",
       "    <tr>\n",
       "      <th>3</th>\n",
       "      <td>☘</td>\n",
       "      <td>9.909009e-27</td>\n",
       "      <td>😩</td>\n",
       "      <td>0.005896</td>\n",
       "      <td>😍</td>\n",
       "      <td>0.016703</td>\n",
       "      <td>🥳</td>\n",
       "      <td>0.010965</td>\n",
       "    </tr>\n",
       "    <tr>\n",
       "      <th>4</th>\n",
       "      <td>↗</td>\n",
       "      <td>2.103527e-29</td>\n",
       "      <td>🌊</td>\n",
       "      <td>0.004832</td>\n",
       "      <td>💖</td>\n",
       "      <td>0.014513</td>\n",
       "      <td>🌊</td>\n",
       "      <td>0.010678</td>\n",
       "    </tr>\n",
       "  </tbody>\n",
       "</table>\n",
       "</div>"
      ],
      "text/plain": [
       "  GaussianNB predictions         probs SGDClassifier predictions     probs  \\\n",
       "0                      🛶  9.999262e-01                         ☀  0.064304   \n",
       "1                      👿  7.380386e-05                         🌞  0.017167   \n",
       "2                    9️⃣  1.161721e-25                         😎  0.012658   \n",
       "3                      ☘  9.909009e-27                         😩  0.005896   \n",
       "4                      ↗  2.103527e-29                         🌊  0.004832   \n",
       "\n",
       "  MultinomialNB predictions     probs SVC predictions     probs  \n",
       "0                         ☀  0.043573               ☀  0.032439  \n",
       "1                         😎  0.026232               😎  0.015742  \n",
       "2                         😩  0.020328               💖  0.011224  \n",
       "3                         😍  0.016703               🥳  0.010965  \n",
       "4                         💖  0.014513               🌊  0.010678  "
      ]
     },
     "execution_count": 63,
     "metadata": {},
     "output_type": "execute_result"
    }
   ],
   "source": [
    "print_prediction(text = 'summer', top_n = 5)"
   ]
  },
  {
   "cell_type": "code",
   "execution_count": 102,
   "metadata": {
    "scrolled": true
   },
   "outputs": [
    {
     "name": "stdout",
     "output_type": "stream",
     "text": [
      "top 5 predictions for summer bbq party is:\n"
     ]
    },
    {
     "data": {
      "text/html": [
       "<div>\n",
       "<style scoped>\n",
       "    .dataframe tbody tr th:only-of-type {\n",
       "        vertical-align: middle;\n",
       "    }\n",
       "\n",
       "    .dataframe tbody tr th {\n",
       "        vertical-align: top;\n",
       "    }\n",
       "\n",
       "    .dataframe thead th {\n",
       "        text-align: right;\n",
       "    }\n",
       "</style>\n",
       "<table border=\"1\" class=\"dataframe\">\n",
       "  <thead>\n",
       "    <tr style=\"text-align: right;\">\n",
       "      <th></th>\n",
       "      <th>GaussianNB predictions</th>\n",
       "      <th>probs</th>\n",
       "      <th>SGDClassifier predictions</th>\n",
       "      <th>probs</th>\n",
       "      <th>MultinomialNB predictions</th>\n",
       "      <th>probs</th>\n",
       "      <th>SVC predictions</th>\n",
       "      <th>probs</th>\n",
       "    </tr>\n",
       "  </thead>\n",
       "  <tbody>\n",
       "    <tr>\n",
       "      <th>0</th>\n",
       "      <td>🥂</td>\n",
       "      <td>9.999502e-01</td>\n",
       "      <td>☀</td>\n",
       "      <td>0.013314</td>\n",
       "      <td>😎</td>\n",
       "      <td>0.019299</td>\n",
       "      <td>☀</td>\n",
       "      <td>0.020681</td>\n",
       "    </tr>\n",
       "    <tr>\n",
       "      <th>1</th>\n",
       "      <td>🍸</td>\n",
       "      <td>4.975591e-05</td>\n",
       "      <td>😎</td>\n",
       "      <td>0.006509</td>\n",
       "      <td>☀</td>\n",
       "      <td>0.017132</td>\n",
       "      <td>😎</td>\n",
       "      <td>0.014065</td>\n",
       "    </tr>\n",
       "    <tr>\n",
       "      <th>2</th>\n",
       "      <td>🏖</td>\n",
       "      <td>9.127978e-60</td>\n",
       "      <td>🌞</td>\n",
       "      <td>0.005897</td>\n",
       "      <td>🙌</td>\n",
       "      <td>0.016888</td>\n",
       "      <td>🌞</td>\n",
       "      <td>0.011599</td>\n",
       "    </tr>\n",
       "    <tr>\n",
       "      <th>3</th>\n",
       "      <td>🌴</td>\n",
       "      <td>3.451603e-173</td>\n",
       "      <td>🙌</td>\n",
       "      <td>0.005230</td>\n",
       "      <td>😩</td>\n",
       "      <td>0.016120</td>\n",
       "      <td>😩</td>\n",
       "      <td>0.010735</td>\n",
       "    </tr>\n",
       "    <tr>\n",
       "      <th>4</th>\n",
       "      <td>💃</td>\n",
       "      <td>8.269650e-240</td>\n",
       "      <td>😩</td>\n",
       "      <td>0.004256</td>\n",
       "      <td>♂</td>\n",
       "      <td>0.013838</td>\n",
       "      <td>👇</td>\n",
       "      <td>0.010594</td>\n",
       "    </tr>\n",
       "  </tbody>\n",
       "</table>\n",
       "</div>"
      ],
      "text/plain": [
       "  GaussianNB predictions          probs SGDClassifier predictions     probs  \\\n",
       "0                      🥂   9.999502e-01                         ☀  0.013314   \n",
       "1                      🍸   4.975591e-05                         😎  0.006509   \n",
       "2                      🏖   9.127978e-60                         🌞  0.005897   \n",
       "3                      🌴  3.451603e-173                         🙌  0.005230   \n",
       "4                      💃  8.269650e-240                         😩  0.004256   \n",
       "\n",
       "  MultinomialNB predictions     probs SVC predictions     probs  \n",
       "0                         😎  0.019299               ☀  0.020681  \n",
       "1                         ☀  0.017132               😎  0.014065  \n",
       "2                         🙌  0.016888               🌞  0.011599  \n",
       "3                         😩  0.016120               😩  0.010735  \n",
       "4                         ♂  0.013838               👇  0.010594  "
      ]
     },
     "execution_count": 102,
     "metadata": {},
     "output_type": "execute_result"
    }
   ],
   "source": [
    "print_prediction(text = 'summer bbq party', top_n = 5)"
   ]
  },
  {
   "cell_type": "code",
   "execution_count": 65,
   "metadata": {},
   "outputs": [
    {
     "name": "stdout",
     "output_type": "stream",
     "text": [
      "top 5 predictions for stranger things is:\n"
     ]
    },
    {
     "data": {
      "text/html": [
       "<div>\n",
       "<style scoped>\n",
       "    .dataframe tbody tr th:only-of-type {\n",
       "        vertical-align: middle;\n",
       "    }\n",
       "\n",
       "    .dataframe tbody tr th {\n",
       "        vertical-align: top;\n",
       "    }\n",
       "\n",
       "    .dataframe thead th {\n",
       "        text-align: right;\n",
       "    }\n",
       "</style>\n",
       "<table border=\"1\" class=\"dataframe\">\n",
       "  <thead>\n",
       "    <tr style=\"text-align: right;\">\n",
       "      <th></th>\n",
       "      <th>GaussianNB predictions</th>\n",
       "      <th>probs</th>\n",
       "      <th>SGDClassifier predictions</th>\n",
       "      <th>probs</th>\n",
       "      <th>MultinomialNB predictions</th>\n",
       "      <th>probs</th>\n",
       "      <th>SVC predictions</th>\n",
       "      <th>probs</th>\n",
       "    </tr>\n",
       "  </thead>\n",
       "  <tbody>\n",
       "    <tr>\n",
       "      <th>0</th>\n",
       "      <td>🌋</td>\n",
       "      <td>1.0</td>\n",
       "      <td>😭</td>\n",
       "      <td>0.004527</td>\n",
       "      <td>😂</td>\n",
       "      <td>0.017186</td>\n",
       "      <td>😊</td>\n",
       "      <td>0.014409</td>\n",
       "    </tr>\n",
       "    <tr>\n",
       "      <th>1</th>\n",
       "      <td>NaN</td>\n",
       "      <td>NaN</td>\n",
       "      <td>😂</td>\n",
       "      <td>0.004319</td>\n",
       "      <td>😊</td>\n",
       "      <td>0.014692</td>\n",
       "      <td>😂</td>\n",
       "      <td>0.013899</td>\n",
       "    </tr>\n",
       "    <tr>\n",
       "      <th>2</th>\n",
       "      <td>NaN</td>\n",
       "      <td>NaN</td>\n",
       "      <td>☺</td>\n",
       "      <td>0.003998</td>\n",
       "      <td>😘</td>\n",
       "      <td>0.013075</td>\n",
       "      <td>😘</td>\n",
       "      <td>0.013284</td>\n",
       "    </tr>\n",
       "    <tr>\n",
       "      <th>3</th>\n",
       "      <td>NaN</td>\n",
       "      <td>NaN</td>\n",
       "      <td>😊</td>\n",
       "      <td>0.003438</td>\n",
       "      <td>😭</td>\n",
       "      <td>0.013032</td>\n",
       "      <td>😭</td>\n",
       "      <td>0.011362</td>\n",
       "    </tr>\n",
       "    <tr>\n",
       "      <th>4</th>\n",
       "      <td>NaN</td>\n",
       "      <td>NaN</td>\n",
       "      <td>😳</td>\n",
       "      <td>0.003070</td>\n",
       "      <td>☺</td>\n",
       "      <td>0.012446</td>\n",
       "      <td>🥺</td>\n",
       "      <td>0.010856</td>\n",
       "    </tr>\n",
       "  </tbody>\n",
       "</table>\n",
       "</div>"
      ],
      "text/plain": [
       "  GaussianNB predictions  probs SGDClassifier predictions     probs  \\\n",
       "0                      🌋    1.0                         😭  0.004527   \n",
       "1                    NaN    NaN                         😂  0.004319   \n",
       "2                    NaN    NaN                         ☺  0.003998   \n",
       "3                    NaN    NaN                         😊  0.003438   \n",
       "4                    NaN    NaN                         😳  0.003070   \n",
       "\n",
       "  MultinomialNB predictions     probs SVC predictions     probs  \n",
       "0                         😂  0.017186               😊  0.014409  \n",
       "1                         😊  0.014692               😂  0.013899  \n",
       "2                         😘  0.013075               😘  0.013284  \n",
       "3                         😭  0.013032               😭  0.011362  \n",
       "4                         ☺  0.012446               🥺  0.010856  "
      ]
     },
     "execution_count": 65,
     "metadata": {},
     "output_type": "execute_result"
    }
   ],
   "source": [
    "print_prediction(text = 'stranger things', top_n = 5)"
   ]
  },
  {
   "cell_type": "code",
   "execution_count": 66,
   "metadata": {},
   "outputs": [
    {
     "name": "stdout",
     "output_type": "stream",
     "text": [
      "top 5 predictions for climate change is:\n"
     ]
    },
    {
     "data": {
      "text/html": [
       "<div>\n",
       "<style scoped>\n",
       "    .dataframe tbody tr th:only-of-type {\n",
       "        vertical-align: middle;\n",
       "    }\n",
       "\n",
       "    .dataframe tbody tr th {\n",
       "        vertical-align: top;\n",
       "    }\n",
       "\n",
       "    .dataframe thead th {\n",
       "        text-align: right;\n",
       "    }\n",
       "</style>\n",
       "<table border=\"1\" class=\"dataframe\">\n",
       "  <thead>\n",
       "    <tr style=\"text-align: right;\">\n",
       "      <th></th>\n",
       "      <th>GaussianNB predictions</th>\n",
       "      <th>probs</th>\n",
       "      <th>SGDClassifier predictions</th>\n",
       "      <th>probs</th>\n",
       "      <th>MultinomialNB predictions</th>\n",
       "      <th>probs</th>\n",
       "      <th>SVC predictions</th>\n",
       "      <th>probs</th>\n",
       "    </tr>\n",
       "  </thead>\n",
       "  <tbody>\n",
       "    <tr>\n",
       "      <th>0</th>\n",
       "      <td>🆘</td>\n",
       "      <td>9.999999e-01</td>\n",
       "      <td>🌍</td>\n",
       "      <td>0.011687</td>\n",
       "      <td>🙄</td>\n",
       "      <td>0.039085</td>\n",
       "      <td>🌍</td>\n",
       "      <td>0.020188</td>\n",
       "    </tr>\n",
       "    <tr>\n",
       "      <th>1</th>\n",
       "      <td>👣</td>\n",
       "      <td>6.425125e-08</td>\n",
       "      <td>🙄</td>\n",
       "      <td>0.010044</td>\n",
       "      <td>🌍</td>\n",
       "      <td>0.022400</td>\n",
       "      <td>🙄</td>\n",
       "      <td>0.019182</td>\n",
       "    </tr>\n",
       "    <tr>\n",
       "      <th>2</th>\n",
       "      <td>🚒</td>\n",
       "      <td>8.491305e-12</td>\n",
       "      <td>🌎</td>\n",
       "      <td>0.009147</td>\n",
       "      <td>👍</td>\n",
       "      <td>0.022125</td>\n",
       "      <td>♀</td>\n",
       "      <td>0.012484</td>\n",
       "    </tr>\n",
       "    <tr>\n",
       "      <th>3</th>\n",
       "      <td>⚖</td>\n",
       "      <td>2.953214e-15</td>\n",
       "      <td>✅</td>\n",
       "      <td>0.006062</td>\n",
       "      <td>♀</td>\n",
       "      <td>0.022088</td>\n",
       "      <td>👇</td>\n",
       "      <td>0.012225</td>\n",
       "    </tr>\n",
       "    <tr>\n",
       "      <th>4</th>\n",
       "      <td>♻</td>\n",
       "      <td>2.351706e-25</td>\n",
       "      <td>👍</td>\n",
       "      <td>0.005856</td>\n",
       "      <td>👇</td>\n",
       "      <td>0.019619</td>\n",
       "      <td>🤣</td>\n",
       "      <td>0.011445</td>\n",
       "    </tr>\n",
       "  </tbody>\n",
       "</table>\n",
       "</div>"
      ],
      "text/plain": [
       "  GaussianNB predictions         probs SGDClassifier predictions     probs  \\\n",
       "0                      🆘  9.999999e-01                         🌍  0.011687   \n",
       "1                      👣  6.425125e-08                         🙄  0.010044   \n",
       "2                      🚒  8.491305e-12                         🌎  0.009147   \n",
       "3                      ⚖  2.953214e-15                         ✅  0.006062   \n",
       "4                      ♻  2.351706e-25                         👍  0.005856   \n",
       "\n",
       "  MultinomialNB predictions     probs SVC predictions     probs  \n",
       "0                         🙄  0.039085               🌍  0.020188  \n",
       "1                         🌍  0.022400               🙄  0.019182  \n",
       "2                         👍  0.022125               ♀  0.012484  \n",
       "3                         ♀  0.022088               👇  0.012225  \n",
       "4                         👇  0.019619               🤣  0.011445  "
      ]
     },
     "execution_count": 66,
     "metadata": {},
     "output_type": "execute_result"
    }
   ],
   "source": [
    "print_prediction(text = 'climate change', top_n = 5)"
   ]
  },
  {
   "cell_type": "code",
   "execution_count": 101,
   "metadata": {
    "scrolled": true
   },
   "outputs": [
    {
     "name": "stdout",
     "output_type": "stream",
     "text": [
      "top 5 predictions for dog is:\n"
     ]
    },
    {
     "data": {
      "text/html": [
       "<div>\n",
       "<style scoped>\n",
       "    .dataframe tbody tr th:only-of-type {\n",
       "        vertical-align: middle;\n",
       "    }\n",
       "\n",
       "    .dataframe tbody tr th {\n",
       "        vertical-align: top;\n",
       "    }\n",
       "\n",
       "    .dataframe thead th {\n",
       "        text-align: right;\n",
       "    }\n",
       "</style>\n",
       "<table border=\"1\" class=\"dataframe\">\n",
       "  <thead>\n",
       "    <tr style=\"text-align: right;\">\n",
       "      <th></th>\n",
       "      <th>GaussianNB predictions</th>\n",
       "      <th>probs</th>\n",
       "      <th>SGDClassifier predictions</th>\n",
       "      <th>probs</th>\n",
       "      <th>MultinomialNB predictions</th>\n",
       "      <th>probs</th>\n",
       "      <th>SVC predictions</th>\n",
       "      <th>probs</th>\n",
       "    </tr>\n",
       "  </thead>\n",
       "  <tbody>\n",
       "    <tr>\n",
       "      <th>0</th>\n",
       "      <td>🌽</td>\n",
       "      <td>1.000000e+00</td>\n",
       "      <td>🐶</td>\n",
       "      <td>0.010022</td>\n",
       "      <td>👏</td>\n",
       "      <td>0.014246</td>\n",
       "      <td>😭</td>\n",
       "      <td>0.012833</td>\n",
       "    </tr>\n",
       "    <tr>\n",
       "      <th>1</th>\n",
       "      <td>🌶</td>\n",
       "      <td>4.885410e-60</td>\n",
       "      <td>👏</td>\n",
       "      <td>0.003865</td>\n",
       "      <td>😭</td>\n",
       "      <td>0.012664</td>\n",
       "      <td>👏</td>\n",
       "      <td>0.011900</td>\n",
       "    </tr>\n",
       "    <tr>\n",
       "      <th>2</th>\n",
       "      <td>🐕</td>\n",
       "      <td>3.480263e-70</td>\n",
       "      <td>😭</td>\n",
       "      <td>0.003393</td>\n",
       "      <td>💚</td>\n",
       "      <td>0.012479</td>\n",
       "      <td>😂</td>\n",
       "      <td>0.011702</td>\n",
       "    </tr>\n",
       "    <tr>\n",
       "      <th>3</th>\n",
       "      <td>🎾</td>\n",
       "      <td>1.181557e-92</td>\n",
       "      <td>🥺</td>\n",
       "      <td>0.002934</td>\n",
       "      <td>🥺</td>\n",
       "      <td>0.012424</td>\n",
       "      <td>💚</td>\n",
       "      <td>0.011054</td>\n",
       "    </tr>\n",
       "    <tr>\n",
       "      <th>4</th>\n",
       "      <td>🐍</td>\n",
       "      <td>8.174489e-102</td>\n",
       "      <td>💚</td>\n",
       "      <td>0.002863</td>\n",
       "      <td>😂</td>\n",
       "      <td>0.012173</td>\n",
       "      <td>🌈</td>\n",
       "      <td>0.010888</td>\n",
       "    </tr>\n",
       "  </tbody>\n",
       "</table>\n",
       "</div>"
      ],
      "text/plain": [
       "  GaussianNB predictions          probs SGDClassifier predictions     probs  \\\n",
       "0                      🌽   1.000000e+00                         🐶  0.010022   \n",
       "1                      🌶   4.885410e-60                         👏  0.003865   \n",
       "2                      🐕   3.480263e-70                         😭  0.003393   \n",
       "3                      🎾   1.181557e-92                         🥺  0.002934   \n",
       "4                      🐍  8.174489e-102                         💚  0.002863   \n",
       "\n",
       "  MultinomialNB predictions     probs SVC predictions     probs  \n",
       "0                         👏  0.014246               😭  0.012833  \n",
       "1                         😭  0.012664               👏  0.011900  \n",
       "2                         💚  0.012479               😂  0.011702  \n",
       "3                         🥺  0.012424               💚  0.011054  \n",
       "4                         😂  0.012173               🌈  0.010888  "
      ]
     },
     "execution_count": 101,
     "metadata": {},
     "output_type": "execute_result"
    }
   ],
   "source": [
    "print_prediction(text = 'dog', top_n = 5)"
   ]
  },
  {
   "cell_type": "code",
   "execution_count": 68,
   "metadata": {},
   "outputs": [
    {
     "name": "stdout",
     "output_type": "stream",
     "text": [
      "top 5 predictions for yoga is:\n"
     ]
    },
    {
     "data": {
      "text/html": [
       "<div>\n",
       "<style scoped>\n",
       "    .dataframe tbody tr th:only-of-type {\n",
       "        vertical-align: middle;\n",
       "    }\n",
       "\n",
       "    .dataframe tbody tr th {\n",
       "        vertical-align: top;\n",
       "    }\n",
       "\n",
       "    .dataframe thead th {\n",
       "        text-align: right;\n",
       "    }\n",
       "</style>\n",
       "<table border=\"1\" class=\"dataframe\">\n",
       "  <thead>\n",
       "    <tr style=\"text-align: right;\">\n",
       "      <th></th>\n",
       "      <th>GaussianNB predictions</th>\n",
       "      <th>probs</th>\n",
       "      <th>SGDClassifier predictions</th>\n",
       "      <th>probs</th>\n",
       "      <th>MultinomialNB predictions</th>\n",
       "      <th>probs</th>\n",
       "      <th>SVC predictions</th>\n",
       "      <th>probs</th>\n",
       "    </tr>\n",
       "  </thead>\n",
       "  <tbody>\n",
       "    <tr>\n",
       "      <th>0</th>\n",
       "      <td>🕉</td>\n",
       "      <td>1.000000e+00</td>\n",
       "      <td>🧘</td>\n",
       "      <td>0.012289</td>\n",
       "      <td>♀</td>\n",
       "      <td>0.026100</td>\n",
       "      <td>♀</td>\n",
       "      <td>0.014034</td>\n",
       "    </tr>\n",
       "    <tr>\n",
       "      <th>1</th>\n",
       "      <td>👦</td>\n",
       "      <td>1.554235e-124</td>\n",
       "      <td>♀</td>\n",
       "      <td>0.011016</td>\n",
       "      <td>😅</td>\n",
       "      <td>0.013098</td>\n",
       "      <td>🤦</td>\n",
       "      <td>0.011845</td>\n",
       "    </tr>\n",
       "    <tr>\n",
       "      <th>2</th>\n",
       "      <td>🤨</td>\n",
       "      <td>2.737787e-194</td>\n",
       "      <td>😅</td>\n",
       "      <td>0.003760</td>\n",
       "      <td>🤦</td>\n",
       "      <td>0.013094</td>\n",
       "      <td>😍</td>\n",
       "      <td>0.011221</td>\n",
       "    </tr>\n",
       "    <tr>\n",
       "      <th>3</th>\n",
       "      <td>🧘</td>\n",
       "      <td>1.724725e-202</td>\n",
       "      <td>🤦</td>\n",
       "      <td>0.003254</td>\n",
       "      <td>😊</td>\n",
       "      <td>0.011760</td>\n",
       "      <td>😅</td>\n",
       "      <td>0.011140</td>\n",
       "    </tr>\n",
       "    <tr>\n",
       "      <th>4</th>\n",
       "      <td>👧</td>\n",
       "      <td>7.103169e-205</td>\n",
       "      <td>💗</td>\n",
       "      <td>0.002898</td>\n",
       "      <td>😍</td>\n",
       "      <td>0.011661</td>\n",
       "      <td>💗</td>\n",
       "      <td>0.010201</td>\n",
       "    </tr>\n",
       "  </tbody>\n",
       "</table>\n",
       "</div>"
      ],
      "text/plain": [
       "  GaussianNB predictions          probs SGDClassifier predictions     probs  \\\n",
       "0                      🕉   1.000000e+00                         🧘  0.012289   \n",
       "1                      👦  1.554235e-124                         ♀  0.011016   \n",
       "2                      🤨  2.737787e-194                         😅  0.003760   \n",
       "3                      🧘  1.724725e-202                         🤦  0.003254   \n",
       "4                      👧  7.103169e-205                         💗  0.002898   \n",
       "\n",
       "  MultinomialNB predictions     probs SVC predictions     probs  \n",
       "0                         ♀  0.026100               ♀  0.014034  \n",
       "1                         😅  0.013098               🤦  0.011845  \n",
       "2                         🤦  0.013094               😍  0.011221  \n",
       "3                         😊  0.011760               😅  0.011140  \n",
       "4                         😍  0.011661               💗  0.010201  "
      ]
     },
     "execution_count": 68,
     "metadata": {},
     "output_type": "execute_result"
    }
   ],
   "source": [
    "print_prediction(text = 'yoga', top_n = 5)"
   ]
  },
  {
   "cell_type": "code",
   "execution_count": 121,
   "metadata": {},
   "outputs": [
    {
     "name": "stdout",
     "output_type": "stream",
     "text": [
      "top 5 predictions for my iphone cracked is:\n"
     ]
    },
    {
     "data": {
      "text/html": [
       "<div>\n",
       "<style scoped>\n",
       "    .dataframe tbody tr th:only-of-type {\n",
       "        vertical-align: middle;\n",
       "    }\n",
       "\n",
       "    .dataframe tbody tr th {\n",
       "        vertical-align: top;\n",
       "    }\n",
       "\n",
       "    .dataframe thead th {\n",
       "        text-align: right;\n",
       "    }\n",
       "</style>\n",
       "<table border=\"1\" class=\"dataframe\">\n",
       "  <thead>\n",
       "    <tr style=\"text-align: right;\">\n",
       "      <th></th>\n",
       "      <th>GaussianNB predictions</th>\n",
       "      <th>probs</th>\n",
       "      <th>SGDClassifier predictions</th>\n",
       "      <th>probs</th>\n",
       "      <th>MultinomialNB predictions</th>\n",
       "      <th>probs</th>\n",
       "      <th>SVC predictions</th>\n",
       "      <th>probs</th>\n",
       "    </tr>\n",
       "  </thead>\n",
       "  <tbody>\n",
       "    <tr>\n",
       "      <th>0</th>\n",
       "      <td>🔔</td>\n",
       "      <td>1.000000e+00</td>\n",
       "      <td>📱</td>\n",
       "      <td>0.004838</td>\n",
       "      <td>❤</td>\n",
       "      <td>0.012674</td>\n",
       "      <td>❤</td>\n",
       "      <td>0.012484</td>\n",
       "    </tr>\n",
       "    <tr>\n",
       "      <th>1</th>\n",
       "      <td>📱</td>\n",
       "      <td>1.971204e-52</td>\n",
       "      <td>🔥</td>\n",
       "      <td>0.003454</td>\n",
       "      <td>🔥</td>\n",
       "      <td>0.012653</td>\n",
       "      <td>🔥</td>\n",
       "      <td>0.012304</td>\n",
       "    </tr>\n",
       "    <tr>\n",
       "      <th>2</th>\n",
       "      <td>🎁</td>\n",
       "      <td>4.091638e-224</td>\n",
       "      <td>🌍</td>\n",
       "      <td>0.003271</td>\n",
       "      <td>🤷</td>\n",
       "      <td>0.011373</td>\n",
       "      <td>🌍</td>\n",
       "      <td>0.011367</td>\n",
       "    </tr>\n",
       "    <tr>\n",
       "      <th>3</th>\n",
       "      <td>NaN</td>\n",
       "      <td>NaN</td>\n",
       "      <td>🤷</td>\n",
       "      <td>0.003156</td>\n",
       "      <td>♂</td>\n",
       "      <td>0.011158</td>\n",
       "      <td>🤷</td>\n",
       "      <td>0.011302</td>\n",
       "    </tr>\n",
       "    <tr>\n",
       "      <th>4</th>\n",
       "      <td>NaN</td>\n",
       "      <td>NaN</td>\n",
       "      <td>♂</td>\n",
       "      <td>0.003100</td>\n",
       "      <td>👍</td>\n",
       "      <td>0.009242</td>\n",
       "      <td>♂</td>\n",
       "      <td>0.011138</td>\n",
       "    </tr>\n",
       "  </tbody>\n",
       "</table>\n",
       "</div>"
      ],
      "text/plain": [
       "  GaussianNB predictions          probs SGDClassifier predictions     probs  \\\n",
       "0                      🔔   1.000000e+00                         📱  0.004838   \n",
       "1                      📱   1.971204e-52                         🔥  0.003454   \n",
       "2                      🎁  4.091638e-224                         🌍  0.003271   \n",
       "3                    NaN            NaN                         🤷  0.003156   \n",
       "4                    NaN            NaN                         ♂  0.003100   \n",
       "\n",
       "  MultinomialNB predictions     probs SVC predictions     probs  \n",
       "0                         ❤  0.012674               ❤  0.012484  \n",
       "1                         🔥  0.012653               🔥  0.012304  \n",
       "2                         🤷  0.011373               🌍  0.011367  \n",
       "3                         ♂  0.011158               🤷  0.011302  \n",
       "4                         👍  0.009242               ♂  0.011138  "
      ]
     },
     "execution_count": 121,
     "metadata": {},
     "output_type": "execute_result"
    }
   ],
   "source": [
    "print_prediction(text = 'my iphone cracked', top_n = 5)"
   ]
  },
  {
   "cell_type": "code",
   "execution_count": 82,
   "metadata": {},
   "outputs": [
    {
     "name": "stdout",
     "output_type": "stream",
     "text": [
      "top 5 predictions for greta thunberg is:\n"
     ]
    },
    {
     "data": {
      "text/html": [
       "<div>\n",
       "<style scoped>\n",
       "    .dataframe tbody tr th:only-of-type {\n",
       "        vertical-align: middle;\n",
       "    }\n",
       "\n",
       "    .dataframe tbody tr th {\n",
       "        vertical-align: top;\n",
       "    }\n",
       "\n",
       "    .dataframe thead th {\n",
       "        text-align: right;\n",
       "    }\n",
       "</style>\n",
       "<table border=\"1\" class=\"dataframe\">\n",
       "  <thead>\n",
       "    <tr style=\"text-align: right;\">\n",
       "      <th></th>\n",
       "      <th>GaussianNB predictions</th>\n",
       "      <th>probs</th>\n",
       "      <th>SGDClassifier predictions</th>\n",
       "      <th>probs</th>\n",
       "      <th>MultinomialNB predictions</th>\n",
       "      <th>probs</th>\n",
       "      <th>SVC predictions</th>\n",
       "      <th>probs</th>\n",
       "    </tr>\n",
       "  </thead>\n",
       "  <tbody>\n",
       "    <tr>\n",
       "      <th>0</th>\n",
       "      <td>🇸🇪</td>\n",
       "      <td>1.000000e+00</td>\n",
       "      <td>😅</td>\n",
       "      <td>0.009108</td>\n",
       "      <td>😅</td>\n",
       "      <td>0.018671</td>\n",
       "      <td>😊</td>\n",
       "      <td>0.012172</td>\n",
       "    </tr>\n",
       "    <tr>\n",
       "      <th>1</th>\n",
       "      <td>😦</td>\n",
       "      <td>4.472056e-78</td>\n",
       "      <td>🌍</td>\n",
       "      <td>0.005396</td>\n",
       "      <td>🥺</td>\n",
       "      <td>0.013022</td>\n",
       "      <td>💖</td>\n",
       "      <td>0.011521</td>\n",
       "    </tr>\n",
       "    <tr>\n",
       "      <th>2</th>\n",
       "      <td>📸</td>\n",
       "      <td>1.419535e-207</td>\n",
       "      <td>🥳</td>\n",
       "      <td>0.003486</td>\n",
       "      <td>💖</td>\n",
       "      <td>0.012526</td>\n",
       "      <td>🥳</td>\n",
       "      <td>0.011514</td>\n",
       "    </tr>\n",
       "    <tr>\n",
       "      <th>3</th>\n",
       "      <td>NaN</td>\n",
       "      <td>NaN</td>\n",
       "      <td>🥺</td>\n",
       "      <td>0.003364</td>\n",
       "      <td>😊</td>\n",
       "      <td>0.012429</td>\n",
       "      <td>😅</td>\n",
       "      <td>0.011422</td>\n",
       "    </tr>\n",
       "    <tr>\n",
       "      <th>4</th>\n",
       "      <td>NaN</td>\n",
       "      <td>NaN</td>\n",
       "      <td>✊</td>\n",
       "      <td>0.003012</td>\n",
       "      <td>🥳</td>\n",
       "      <td>0.009615</td>\n",
       "      <td>🥺</td>\n",
       "      <td>0.010849</td>\n",
       "    </tr>\n",
       "  </tbody>\n",
       "</table>\n",
       "</div>"
      ],
      "text/plain": [
       "  GaussianNB predictions          probs SGDClassifier predictions     probs  \\\n",
       "0                     🇸🇪   1.000000e+00                         😅  0.009108   \n",
       "1                      😦   4.472056e-78                         🌍  0.005396   \n",
       "2                      📸  1.419535e-207                         🥳  0.003486   \n",
       "3                    NaN            NaN                         🥺  0.003364   \n",
       "4                    NaN            NaN                         ✊  0.003012   \n",
       "\n",
       "  MultinomialNB predictions     probs SVC predictions     probs  \n",
       "0                         😅  0.018671               😊  0.012172  \n",
       "1                         🥺  0.013022               💖  0.011521  \n",
       "2                         💖  0.012526               🥳  0.011514  \n",
       "3                         😊  0.012429               😅  0.011422  \n",
       "4                         🥳  0.009615               🥺  0.010849  "
      ]
     },
     "execution_count": 82,
     "metadata": {},
     "output_type": "execute_result"
    }
   ],
   "source": [
    "print_prediction(text = 'greta thunberg', top_n = 5)"
   ]
  },
  {
   "cell_type": "code",
   "execution_count": 71,
   "metadata": {},
   "outputs": [
    {
     "name": "stdout",
     "output_type": "stream",
     "text": [
      "top 5 predictions for abortion is:\n"
     ]
    },
    {
     "data": {
      "text/html": [
       "<div>\n",
       "<style scoped>\n",
       "    .dataframe tbody tr th:only-of-type {\n",
       "        vertical-align: middle;\n",
       "    }\n",
       "\n",
       "    .dataframe tbody tr th {\n",
       "        vertical-align: top;\n",
       "    }\n",
       "\n",
       "    .dataframe thead th {\n",
       "        text-align: right;\n",
       "    }\n",
       "</style>\n",
       "<table border=\"1\" class=\"dataframe\">\n",
       "  <thead>\n",
       "    <tr style=\"text-align: right;\">\n",
       "      <th></th>\n",
       "      <th>GaussianNB predictions</th>\n",
       "      <th>probs</th>\n",
       "      <th>SGDClassifier predictions</th>\n",
       "      <th>probs</th>\n",
       "      <th>MultinomialNB predictions</th>\n",
       "      <th>probs</th>\n",
       "      <th>SVC predictions</th>\n",
       "      <th>probs</th>\n",
       "    </tr>\n",
       "  </thead>\n",
       "  <tbody>\n",
       "    <tr>\n",
       "      <th>0</th>\n",
       "      <td>👎</td>\n",
       "      <td>1.000000e+00</td>\n",
       "      <td>👩</td>\n",
       "      <td>0.007129</td>\n",
       "      <td>👍</td>\n",
       "      <td>0.014945</td>\n",
       "      <td>👍</td>\n",
       "      <td>0.015130</td>\n",
       "    </tr>\n",
       "    <tr>\n",
       "      <th>1</th>\n",
       "      <td>😣</td>\n",
       "      <td>1.218548e-103</td>\n",
       "      <td>🤝</td>\n",
       "      <td>0.004031</td>\n",
       "      <td>🤦</td>\n",
       "      <td>0.012061</td>\n",
       "      <td>🤦</td>\n",
       "      <td>0.013282</td>\n",
       "    </tr>\n",
       "    <tr>\n",
       "      <th>2</th>\n",
       "      <td>😑</td>\n",
       "      <td>7.438464e-108</td>\n",
       "      <td>👍</td>\n",
       "      <td>0.003849</td>\n",
       "      <td>♂</td>\n",
       "      <td>0.010951</td>\n",
       "      <td>🚨</td>\n",
       "      <td>0.011677</td>\n",
       "    </tr>\n",
       "    <tr>\n",
       "      <th>3</th>\n",
       "      <td>🤝</td>\n",
       "      <td>2.903257e-206</td>\n",
       "      <td>🤦</td>\n",
       "      <td>0.003013</td>\n",
       "      <td>🚨</td>\n",
       "      <td>0.010360</td>\n",
       "      <td>♂</td>\n",
       "      <td>0.011340</td>\n",
       "    </tr>\n",
       "    <tr>\n",
       "      <th>4</th>\n",
       "      <td>👩</td>\n",
       "      <td>1.539567e-220</td>\n",
       "      <td>😳</td>\n",
       "      <td>0.002974</td>\n",
       "      <td>😳</td>\n",
       "      <td>0.009830</td>\n",
       "      <td>🔥</td>\n",
       "      <td>0.010032</td>\n",
       "    </tr>\n",
       "  </tbody>\n",
       "</table>\n",
       "</div>"
      ],
      "text/plain": [
       "  GaussianNB predictions          probs SGDClassifier predictions     probs  \\\n",
       "0                      👎   1.000000e+00                         👩  0.007129   \n",
       "1                      😣  1.218548e-103                         🤝  0.004031   \n",
       "2                      😑  7.438464e-108                         👍  0.003849   \n",
       "3                      🤝  2.903257e-206                         🤦  0.003013   \n",
       "4                      👩  1.539567e-220                         😳  0.002974   \n",
       "\n",
       "  MultinomialNB predictions     probs SVC predictions     probs  \n",
       "0                         👍  0.014945               👍  0.015130  \n",
       "1                         🤦  0.012061               🤦  0.013282  \n",
       "2                         ♂  0.010951               🚨  0.011677  \n",
       "3                         🚨  0.010360               ♂  0.011340  \n",
       "4                         😳  0.009830               🔥  0.010032  "
      ]
     },
     "execution_count": 71,
     "metadata": {},
     "output_type": "execute_result"
    }
   ],
   "source": [
    "print_prediction(text = 'abortion', top_n = 5)"
   ]
  },
  {
   "cell_type": "code",
   "execution_count": 76,
   "metadata": {},
   "outputs": [
    {
     "name": "stdout",
     "output_type": "stream",
     "text": [
      "top 5 predictions for my iphone is broken is:\n"
     ]
    },
    {
     "data": {
      "text/html": [
       "<div>\n",
       "<style scoped>\n",
       "    .dataframe tbody tr th:only-of-type {\n",
       "        vertical-align: middle;\n",
       "    }\n",
       "\n",
       "    .dataframe tbody tr th {\n",
       "        vertical-align: top;\n",
       "    }\n",
       "\n",
       "    .dataframe thead th {\n",
       "        text-align: right;\n",
       "    }\n",
       "</style>\n",
       "<table border=\"1\" class=\"dataframe\">\n",
       "  <thead>\n",
       "    <tr style=\"text-align: right;\">\n",
       "      <th></th>\n",
       "      <th>GaussianNB predictions</th>\n",
       "      <th>probs</th>\n",
       "      <th>SGDClassifier predictions</th>\n",
       "      <th>probs</th>\n",
       "      <th>MultinomialNB predictions</th>\n",
       "      <th>probs</th>\n",
       "      <th>SVC predictions</th>\n",
       "      <th>probs</th>\n",
       "    </tr>\n",
       "  </thead>\n",
       "  <tbody>\n",
       "    <tr>\n",
       "      <th>0</th>\n",
       "      <td>🔔</td>\n",
       "      <td>1.000000e+00</td>\n",
       "      <td>📱</td>\n",
       "      <td>0.004838</td>\n",
       "      <td>❤</td>\n",
       "      <td>0.012674</td>\n",
       "      <td>❤</td>\n",
       "      <td>0.012484</td>\n",
       "    </tr>\n",
       "    <tr>\n",
       "      <th>1</th>\n",
       "      <td>📱</td>\n",
       "      <td>1.971204e-52</td>\n",
       "      <td>🔥</td>\n",
       "      <td>0.003454</td>\n",
       "      <td>🔥</td>\n",
       "      <td>0.012653</td>\n",
       "      <td>🔥</td>\n",
       "      <td>0.012304</td>\n",
       "    </tr>\n",
       "    <tr>\n",
       "      <th>2</th>\n",
       "      <td>🎁</td>\n",
       "      <td>4.091638e-224</td>\n",
       "      <td>🌍</td>\n",
       "      <td>0.003271</td>\n",
       "      <td>🤷</td>\n",
       "      <td>0.011373</td>\n",
       "      <td>🌍</td>\n",
       "      <td>0.011367</td>\n",
       "    </tr>\n",
       "    <tr>\n",
       "      <th>3</th>\n",
       "      <td>NaN</td>\n",
       "      <td>NaN</td>\n",
       "      <td>🤷</td>\n",
       "      <td>0.003156</td>\n",
       "      <td>♂</td>\n",
       "      <td>0.011158</td>\n",
       "      <td>🤷</td>\n",
       "      <td>0.011302</td>\n",
       "    </tr>\n",
       "    <tr>\n",
       "      <th>4</th>\n",
       "      <td>NaN</td>\n",
       "      <td>NaN</td>\n",
       "      <td>♂</td>\n",
       "      <td>0.003100</td>\n",
       "      <td>👍</td>\n",
       "      <td>0.009242</td>\n",
       "      <td>♂</td>\n",
       "      <td>0.011138</td>\n",
       "    </tr>\n",
       "  </tbody>\n",
       "</table>\n",
       "</div>"
      ],
      "text/plain": [
       "  GaussianNB predictions          probs SGDClassifier predictions     probs  \\\n",
       "0                      🔔   1.000000e+00                         📱  0.004838   \n",
       "1                      📱   1.971204e-52                         🔥  0.003454   \n",
       "2                      🎁  4.091638e-224                         🌍  0.003271   \n",
       "3                    NaN            NaN                         🤷  0.003156   \n",
       "4                    NaN            NaN                         ♂  0.003100   \n",
       "\n",
       "  MultinomialNB predictions     probs SVC predictions     probs  \n",
       "0                         ❤  0.012674               ❤  0.012484  \n",
       "1                         🔥  0.012653               🔥  0.012304  \n",
       "2                         🤷  0.011373               🌍  0.011367  \n",
       "3                         ♂  0.011158               🤷  0.011302  \n",
       "4                         👍  0.009242               ♂  0.011138  "
      ]
     },
     "execution_count": 76,
     "metadata": {},
     "output_type": "execute_result"
    }
   ],
   "source": [
    "print_prediction(text = 'my iphone is broken', top_n = 5)"
   ]
  },
  {
   "cell_type": "code",
   "execution_count": 119,
   "metadata": {},
   "outputs": [
    {
     "name": "stdout",
     "output_type": "stream",
     "text": [
      "top 5 predictions for cold is:\n"
     ]
    },
    {
     "data": {
      "text/html": [
       "<div>\n",
       "<style scoped>\n",
       "    .dataframe tbody tr th:only-of-type {\n",
       "        vertical-align: middle;\n",
       "    }\n",
       "\n",
       "    .dataframe tbody tr th {\n",
       "        vertical-align: top;\n",
       "    }\n",
       "\n",
       "    .dataframe thead th {\n",
       "        text-align: right;\n",
       "    }\n",
       "</style>\n",
       "<table border=\"1\" class=\"dataframe\">\n",
       "  <thead>\n",
       "    <tr style=\"text-align: right;\">\n",
       "      <th></th>\n",
       "      <th>GaussianNB predictions</th>\n",
       "      <th>probs</th>\n",
       "      <th>SGDClassifier predictions</th>\n",
       "      <th>probs</th>\n",
       "      <th>MultinomialNB predictions</th>\n",
       "      <th>probs</th>\n",
       "      <th>SVC predictions</th>\n",
       "      <th>probs</th>\n",
       "    </tr>\n",
       "  </thead>\n",
       "  <tbody>\n",
       "    <tr>\n",
       "      <th>0</th>\n",
       "      <td>🥶</td>\n",
       "      <td>9.999798e-01</td>\n",
       "      <td>🤦</td>\n",
       "      <td>0.003867</td>\n",
       "      <td>🤦</td>\n",
       "      <td>0.013504</td>\n",
       "      <td>🤦</td>\n",
       "      <td>0.014498</td>\n",
       "    </tr>\n",
       "    <tr>\n",
       "      <th>1</th>\n",
       "      <td>☔</td>\n",
       "      <td>2.022491e-05</td>\n",
       "      <td>♂</td>\n",
       "      <td>0.003644</td>\n",
       "      <td>♂</td>\n",
       "      <td>0.012262</td>\n",
       "      <td>🤷</td>\n",
       "      <td>0.011752</td>\n",
       "    </tr>\n",
       "    <tr>\n",
       "      <th>2</th>\n",
       "      <td>🍿</td>\n",
       "      <td>1.741959e-22</td>\n",
       "      <td>🤷</td>\n",
       "      <td>0.003367</td>\n",
       "      <td>🤷</td>\n",
       "      <td>0.012226</td>\n",
       "      <td>♂</td>\n",
       "      <td>0.011698</td>\n",
       "    </tr>\n",
       "    <tr>\n",
       "      <th>3</th>\n",
       "      <td>🤕</td>\n",
       "      <td>1.475024e-64</td>\n",
       "      <td>♀</td>\n",
       "      <td>0.002817</td>\n",
       "      <td>👍</td>\n",
       "      <td>0.009239</td>\n",
       "      <td>♀</td>\n",
       "      <td>0.011464</td>\n",
       "    </tr>\n",
       "    <tr>\n",
       "      <th>4</th>\n",
       "      <td>💰</td>\n",
       "      <td>6.130437e-308</td>\n",
       "      <td>👍</td>\n",
       "      <td>0.002816</td>\n",
       "      <td>♀</td>\n",
       "      <td>0.009164</td>\n",
       "      <td>🔥</td>\n",
       "      <td>0.011102</td>\n",
       "    </tr>\n",
       "  </tbody>\n",
       "</table>\n",
       "</div>"
      ],
      "text/plain": [
       "  GaussianNB predictions          probs SGDClassifier predictions     probs  \\\n",
       "0                      🥶   9.999798e-01                         🤦  0.003867   \n",
       "1                      ☔   2.022491e-05                         ♂  0.003644   \n",
       "2                      🍿   1.741959e-22                         🤷  0.003367   \n",
       "3                      🤕   1.475024e-64                         ♀  0.002817   \n",
       "4                      💰  6.130437e-308                         👍  0.002816   \n",
       "\n",
       "  MultinomialNB predictions     probs SVC predictions     probs  \n",
       "0                         🤦  0.013504               🤦  0.014498  \n",
       "1                         ♂  0.012262               🤷  0.011752  \n",
       "2                         🤷  0.012226               ♂  0.011698  \n",
       "3                         👍  0.009239               ♀  0.011464  \n",
       "4                         ♀  0.009164               🔥  0.011102  "
      ]
     },
     "execution_count": 119,
     "metadata": {},
     "output_type": "execute_result"
    }
   ],
   "source": [
    "print_prediction(text = 'cold', top_n = 5)"
   ]
  },
  {
   "cell_type": "code",
   "execution_count": 133,
   "metadata": {},
   "outputs": [
    {
     "name": "stdout",
     "output_type": "stream",
     "text": [
      "top 5 predictions for ocean is:\n"
     ]
    },
    {
     "data": {
      "text/html": [
       "<div>\n",
       "<style scoped>\n",
       "    .dataframe tbody tr th:only-of-type {\n",
       "        vertical-align: middle;\n",
       "    }\n",
       "\n",
       "    .dataframe tbody tr th {\n",
       "        vertical-align: top;\n",
       "    }\n",
       "\n",
       "    .dataframe thead th {\n",
       "        text-align: right;\n",
       "    }\n",
       "</style>\n",
       "<table border=\"1\" class=\"dataframe\">\n",
       "  <thead>\n",
       "    <tr style=\"text-align: right;\">\n",
       "      <th></th>\n",
       "      <th>GaussianNB predictions</th>\n",
       "      <th>probs</th>\n",
       "      <th>SGDClassifier predictions</th>\n",
       "      <th>probs</th>\n",
       "      <th>MultinomialNB predictions</th>\n",
       "      <th>probs</th>\n",
       "      <th>SVC predictions</th>\n",
       "      <th>probs</th>\n",
       "    </tr>\n",
       "  </thead>\n",
       "  <tbody>\n",
       "    <tr>\n",
       "      <th>0</th>\n",
       "      <td>🦈</td>\n",
       "      <td>1.000000e+00</td>\n",
       "      <td>🌊</td>\n",
       "      <td>0.033187</td>\n",
       "      <td>🌊</td>\n",
       "      <td>0.017034</td>\n",
       "      <td>🥺</td>\n",
       "      <td>0.010601</td>\n",
       "    </tr>\n",
       "    <tr>\n",
       "      <th>1</th>\n",
       "      <td>🐬</td>\n",
       "      <td>2.034963e-09</td>\n",
       "      <td>🎶</td>\n",
       "      <td>0.004635</td>\n",
       "      <td>🥺</td>\n",
       "      <td>0.012535</td>\n",
       "      <td>💚</td>\n",
       "      <td>0.010430</td>\n",
       "    </tr>\n",
       "    <tr>\n",
       "      <th>2</th>\n",
       "      <td>🐟</td>\n",
       "      <td>2.343617e-28</td>\n",
       "      <td>😔</td>\n",
       "      <td>0.002922</td>\n",
       "      <td>💚</td>\n",
       "      <td>0.012513</td>\n",
       "      <td>🙄</td>\n",
       "      <td>0.010332</td>\n",
       "    </tr>\n",
       "    <tr>\n",
       "      <th>3</th>\n",
       "      <td>🐳</td>\n",
       "      <td>5.705956e-33</td>\n",
       "      <td>🐬</td>\n",
       "      <td>0.002652</td>\n",
       "      <td>🙄</td>\n",
       "      <td>0.011864</td>\n",
       "      <td>🙏</td>\n",
       "      <td>0.009673</td>\n",
       "    </tr>\n",
       "    <tr>\n",
       "      <th>4</th>\n",
       "      <td>🐙</td>\n",
       "      <td>2.085410e-36</td>\n",
       "      <td>👌</td>\n",
       "      <td>0.002610</td>\n",
       "      <td>❤</td>\n",
       "      <td>0.011651</td>\n",
       "      <td>🎶</td>\n",
       "      <td>0.009545</td>\n",
       "    </tr>\n",
       "  </tbody>\n",
       "</table>\n",
       "</div>"
      ],
      "text/plain": [
       "  GaussianNB predictions         probs SGDClassifier predictions     probs  \\\n",
       "0                      🦈  1.000000e+00                         🌊  0.033187   \n",
       "1                      🐬  2.034963e-09                         🎶  0.004635   \n",
       "2                      🐟  2.343617e-28                         😔  0.002922   \n",
       "3                      🐳  5.705956e-33                         🐬  0.002652   \n",
       "4                      🐙  2.085410e-36                         👌  0.002610   \n",
       "\n",
       "  MultinomialNB predictions     probs SVC predictions     probs  \n",
       "0                         🌊  0.017034               🥺  0.010601  \n",
       "1                         🥺  0.012535               💚  0.010430  \n",
       "2                         💚  0.012513               🙄  0.010332  \n",
       "3                         🙄  0.011864               🙏  0.009673  \n",
       "4                         ❤  0.011651               🎶  0.009545  "
      ]
     },
     "execution_count": 133,
     "metadata": {},
     "output_type": "execute_result"
    }
   ],
   "source": [
    "print_prediction(text = 'ocean', top_n = 5)"
   ]
  },
  {
   "cell_type": "markdown",
   "metadata": {},
   "source": [
    "The prediction is looking a lot better when I randomly under sampled the top 30 emojis in the dataset. \n",
    "The Stochastic Gradient descent classifier which is pretty fast, works pretty well. I can trust emojis with probabilty \n",
    "higher than 0.01. Otherwise, Gaussian Naive Bayes model differs from other models and gives somewhat good emojis that the \n",
    "other models did not pick up. However, gives very bad assumptions when given an input that is not common in the dataset.\n",
    "\n",
    "I think worst out of the four models is the SVC which is very slow in terms of running time. Multinomial Naive Bayes is the fastest\n",
    "and works very similar to SVC model. I think it is a good baseline model."
   ]
  },
  {
   "cell_type": "code",
   "execution_count": null,
   "metadata": {},
   "outputs": [],
   "source": [
    "cross validate train"
   ]
  }
 ],
 "metadata": {
  "kernelspec": {
   "display_name": "Python 3",
   "language": "python",
   "name": "python3"
  },
  "language_info": {
   "codemirror_mode": {
    "name": "ipython",
    "version": 3
   },
   "file_extension": ".py",
   "mimetype": "text/x-python",
   "name": "python",
   "nbconvert_exporter": "python",
   "pygments_lexer": "ipython3",
   "version": "3.6.8"
  }
 },
 "nbformat": 4,
 "nbformat_minor": 2
}
